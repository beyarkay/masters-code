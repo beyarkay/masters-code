{
 "cells": [
  {
   "cell_type": "code",
   "execution_count": null,
   "id": "999271bc",
   "metadata": {
    "ExecuteTime": {
     "end_time": "2022-10-30T09:41:59.522593Z",
     "start_time": "2022-10-30T09:41:56.415376Z"
    },
    "code_folding": []
   },
   "outputs": [],
   "source": [
    "# Imports\n",
    "from ml_utils import *\n",
    "import os\n",
    "os.environ['TF_CPP_MIN_LOG_LEVEL'] = '0' #Don't print TF INFO messages\n",
    "\n",
    "import ipywidgets as widgets\n",
    "import matplotlib as mpl\n",
    "from ipywidgets import interact\n",
    "from pprint import pprint\n",
    "import datetime\n",
    "import os\n",
    "import pandas as pd\n",
    "import seaborn as sns\n",
    "import matplotlib.pyplot as plt\n",
    "import numpy as np\n",
    "import scipy\n",
    "from sklearn.metrics import classification_report, confusion_matrix, ConfusionMatrixDisplay, f1_score\n",
    "from tqdm.notebook import tqdm\n",
    "from sklearn.model_selection import train_test_split\n",
    "import wandb\n",
    "import yaml\n",
    "\n",
    "from tensorflow.keras import layers\n",
    "import tensorflow as tf\n",
    "from tensorflow import keras\n",
    "keras.utils.set_random_seed(42)\n",
    "# Set the font to computer modern\n",
    "mpl.rc('font', family='serif', serif='cmr10')\n",
    "mpl.rc('axes.formatter', use_mathtext=True)\n",
    "\n",
    "%load_ext autoreload\n",
    "%autoreload 2"
   ]
  },
  {
   "cell_type": "code",
   "execution_count": null,
   "id": "2698675f",
   "metadata": {
    "ExecuteTime": {
     "end_time": "2022-10-30T22:12:34.990609Z",
     "start_time": "2022-10-30T22:12:34.800110Z"
    },
    "code_folding": [],
    "scrolled": true
   },
   "outputs": [],
   "source": [
    "# Read in the existing config, optionally update it, and then save the result to disk again\n",
    "with open('config.yaml', 'r') as file:\n",
    "    config = yaml.safe_load(file)\n",
    "\n",
    "config.update({\n",
    "    'batch_size': 128,\n",
    "    'center_label': True,\n",
    "    'label_expansion': 8,\n",
    "    'window_size': 14,\n",
    "    'epochs': 500,\n",
    "    'n_hidden_units': {1: 175, 2: 97},\n",
    "    'architecture': 'ffnn',\n",
    "    'dropout_frac': 0.56,\n",
    "    'use_class_weights': False,\n",
    "    'bias_final_layer': True,\n",
    "    'lr': 0.0001832,\n",
    "})\n",
    "\n",
    "with open('config.yaml', 'w') as file:\n",
    "    yaml.dump(config, file)\n",
    "\n",
    "pprint(config)"
   ]
  },
  {
   "cell_type": "markdown",
   "id": "5ccc45c4",
   "metadata": {},
   "source": [
    "TODO: you're not using softmax even though you mention it in the report. Also the biases need to be recalculated because softmax is no longer being used"
   ]
  },
  {
   "cell_type": "code",
   "execution_count": null,
   "id": "fd83aa95",
   "metadata": {
    "ExecuteTime": {
     "end_time": "2022-10-30T22:12:39.914480Z",
     "start_time": "2022-10-30T22:12:37.627889Z"
    },
    "code_folding": [],
    "scrolled": true
   },
   "outputs": [],
   "source": [
    "df = parse_csvs()\n",
    "\n",
    "config, g2i, i2g, i2ohe, ohe2i, X, y, X_train, X_valid, y_train, y_valid = \\\n",
    "    build_dataset(df, config)\n",
    "    \n",
    "# to_print = [\n",
    "#     (i2g(i), c, round(config['class_weight'][i], 6)) \n",
    "#     for i, c in \n",
    "#     zip(*np.unique(y, return_counts=True))\n",
    "# ]\n",
    "# print('\\n'.join([f'{g: <12} {c: >5} {f: >7}' for g, c, f in to_print]))\n"
   ]
  },
  {
   "cell_type": "code",
   "execution_count": null,
   "id": "d9163b16",
   "metadata": {
    "ExecuteTime": {
     "end_time": "2022-10-30T22:16:52.293389Z",
     "start_time": "2022-10-30T22:13:28.655996Z"
    },
    "code_folding": [],
    "scrolled": true
   },
   "outputs": [],
   "source": [
    "# Tensorflow Feed Forward NN\n",
    "wandb.init()\n",
    "history, model = compile_and_fit(\n",
    "    X_train,\n",
    "    y_train,\n",
    "    X_valid,\n",
    "    y_valid,\n",
    "    config | {'epochs': 15},\n",
    "    i2g,\n",
    "    verbose=1,\n",
    ")"
   ]
  },
  {
   "cell_type": "code",
   "execution_count": null,
   "id": "c70dc10e",
   "metadata": {
    "ExecuteTime": {
     "end_time": "2022-10-31T14:35:28.370289Z",
     "start_time": "2022-10-31T14:35:11.625621Z"
    },
    "code_folding": [],
    "scrolled": true
   },
   "outputs": [],
   "source": [
    "print('Percentage g255: ', (y_train == g2i('gesture0255')).sum() / y_train.shape)\n",
    "eval_and_save(\n",
    "    model, \n",
    "    X_train, \n",
    "    y_train, \n",
    "    X_valid, \n",
    "    y_valid, \n",
    "    config,\n",
    "    i2g,\n",
    "    history, \n",
    "    show_figs=True, \n",
    "    cbar=True, \n",
    "    make_plots=True,\n",
    "    perc='both',\n",
    ")"
   ]
  },
  {
   "cell_type": "code",
   "execution_count": null,
   "id": "29a77d07",
   "metadata": {
    "ExecuteTime": {
     "end_time": "2022-10-31T14:34:12.080801Z",
     "start_time": "2022-10-31T14:34:11.475288Z"
    }
   },
   "outputs": [],
   "source": [
    "to_predict, _count = sorted(list(zip(*np.unique(y_valid, return_counts=True))), key=lambda x: -x[1])[0]\n",
    "\n",
    "y_pred = tf.one_hot(np.full(y_valid.shape, to_predict), len(np.unique(y_valid)))\n",
    "dumb_scce = keras.losses.sparse_categorical_crossentropy(y_valid, y_pred).numpy()\n",
    "dumb_scce.mean()"
   ]
  },
  {
   "cell_type": "code",
   "execution_count": null,
   "id": "7819e846",
   "metadata": {
    "ExecuteTime": {
     "end_time": "2022-10-30T10:06:01.710703Z",
     "start_time": "2022-10-30T10:06:01.666718Z"
    }
   },
   "outputs": [],
   "source": [
    "model.summary()"
   ]
  },
  {
   "cell_type": "markdown",
   "id": "96909d2d",
   "metadata": {},
   "source": [
    "#### Use DTW distance metric"
   ]
  },
  {
   "cell_type": "code",
   "execution_count": null,
   "id": "734500b2",
   "metadata": {
    "ExecuteTime": {
     "end_time": "2022-10-30T21:57:29.475871Z",
     "start_time": "2022-10-30T21:57:09.856641Z"
    }
   },
   "outputs": [],
   "source": [
    "y_pred = model.predict(X, verbose=0)"
   ]
  },
  {
   "cell_type": "code",
   "execution_count": null,
   "id": "d6eea45f",
   "metadata": {
    "ExecuteTime": {
     "end_time": "2022-10-30T22:02:50.277721Z",
     "start_time": "2022-10-30T22:02:50.189267Z"
    }
   },
   "outputs": [],
   "source": [
    "from pyts.metrics import dtw"
   ]
  },
  {
   "cell_type": "code",
   "execution_count": null,
   "id": "4fb10216",
   "metadata": {},
   "outputs": [],
   "source": [
    "window_size = 0.1\n",
    "dtw, path = dtw(\n",
    "    x, y, dist='square', method='sakoechiba',\n",
    "    options={'window_size': window_size}, return_path=True\n",
    ")"
   ]
  },
  {
   "cell_type": "code",
   "execution_count": null,
   "id": "e3b02c01",
   "metadata": {
    "ExecuteTime": {
     "end_time": "2022-10-31T14:38:38.010448Z",
     "start_time": "2022-10-31T14:38:37.371166Z"
    }
   },
   "outputs": [],
   "source": [
    "y_true = y_valid\n",
    "y_pred = tf.one_hot(\n",
    "    np.full(y_true.shape, g2i('gesture0255')), \n",
    "    len(np.unique(y_valid))\n",
    ")\n",
    "dumb_scce = keras.losses.sparse_categorical_crossentropy(\n",
    "    y_true,\n",
    "    y_pred,\n",
    ").numpy().mean()\n",
    "p, r, f1, sup = classification_report(y_true, np.argmax(y_pred, axis=-1), output_dict=True)['50'].values()"
   ]
  },
  {
   "cell_type": "code",
   "execution_count": null,
   "id": "087ba979",
   "metadata": {
    "ExecuteTime": {
     "end_time": "2022-10-29T21:13:14.958821Z",
     "start_time": "2022-10-29T21:13:14.630244Z"
    },
    "code_folding": [
     0,
     7,
     15
    ]
   },
   "outputs": [],
   "source": [
    "@interact(start=widgets.IntSlider(\n",
    "    value=275,\n",
    "    min=0,\n",
    "    max=y_pred.shape[0],\n",
    "    step=100,\n",
    "    description='Start',\n",
    "    continuous_update=False,\n",
    "), duration=widgets.IntSlider(\n",
    "    value=20,\n",
    "    min=0,\n",
    "    max=5000,\n",
    "    step=20,\n",
    "    continuous_update=False,\n",
    "    description='Duration',\n",
    "))\n",
    "def plt_preds(start, duration):\n",
    "    s, f = start, start + duration\n",
    "    fig, axs = plt.subplots(3, 1, figsize=(10, 5))\n",
    "#     axs.formatter.use_mathtext = True\n",
    "    onehot_valid = tf.one_hot(y[s:f], y_pred.shape[1]).numpy()\n",
    "\n",
    "    axs[0].set_title('Actual gesture probabilities')\n",
    "    sns.heatmap(\n",
    "        onehot_valid.T,\n",
    "        vmax=1,\n",
    "        vmin=0,\n",
    "        ax=axs[0]\n",
    "    )\n",
    "\n",
    "    axs[1].set_title('Predicted gesture probabilities')\n",
    "    sns.heatmap(\n",
    "        y_pred[s:f].T,\n",
    "        ax=axs[1],\n",
    "        vmax=1,\n",
    "        vmin=0,\n",
    "\n",
    "    )\n",
    "\n",
    "    axs[2].set_title('Actual gesture probabilities minus predicted gesture probabilities')\n",
    "    sns.heatmap(\n",
    "        onehot_valid.T - y_pred[s:f].T,\n",
    "        ax=axs[2],\n",
    "        cmap='icefire',\n",
    "        vmax=1,\n",
    "        vmin=-1,\n",
    "\n",
    "    )\n",
    "    for ax in axs:\n",
    "        ax.set_xticks([]) \n",
    "        ax.set_yticks([]) \n",
    "        ax.set_ylabel('Gesture')\n",
    "    axs[-1].set_xlabel('Time')\n",
    "\n",
    "    # plt.suptitle('Predicted and actual gestures over time')\n",
    "    plt.tight_layout()\n"
   ]
  },
  {
   "cell_type": "markdown",
   "id": "5ba008be",
   "metadata": {},
   "source": [
    "### Make predictions and create a simplified confusion matrix"
   ]
  },
  {
   "cell_type": "code",
   "execution_count": null,
   "id": "0d9e35f0",
   "metadata": {
    "ExecuteTime": {
     "end_time": "2022-10-29T14:11:41.155482Z",
     "start_time": "2022-10-29T14:11:38.230834Z"
    }
   },
   "outputs": [],
   "source": [
    "y_pred_valid = np.argmax(model.predict(X_valid, verbose=0), axis=1)"
   ]
  },
  {
   "cell_type": "code",
   "execution_count": null,
   "id": "98b0e53f",
   "metadata": {
    "ExecuteTime": {
     "end_time": "2022-10-29T14:11:42.747669Z",
     "start_time": "2022-10-29T14:11:41.675348Z"
    }
   },
   "outputs": [],
   "source": [
    "confusion_mtx = tf.math.confusion_matrix(y_valid, y_pred_valid).numpy()\n",
    "\n",
    "df = pd.DataFrame()\n",
    "df.index = i2g(list(range(len(confusion_mtx[0]))))\n",
    "total_obs = pd.Series(confusion_mtx.sum(axis=1), index=df.index)\n",
    "df['pred=true'] = np.diag(confusion_mtx) / total_obs\n",
    "df['pred=g255'] = confusion_mtx[:, -1] / total_obs\n",
    "df['pred!=true!=g255'] = (1 - df['pred=true'] - df['pred=g255'])\n",
    "\n",
    "df['pred=other true=g255'] = confusion_mtx[-1, :] / total_obs[-1]\n",
    "df\n",
    "# total_obs\n",
    "\n",
    "\n",
    "fig, ax = plt.subplots(1, 1, figsize=(5, 10))\n",
    "sns.heatmap(\n",
    "    df.iloc[:-1, :],\n",
    "    xticklabels=['%Correct', '% classified as g255', '%Some other gesture', '%actually g255, predicted other'],\n",
    "    ax=ax,\n",
    "    annot=True,\n",
    "    fmt='.4f',\n",
    "    cbar=False,\n",
    ")\n",
    "plt.title('Percentage of observations classified correctly, as g255,\\nor as some other gesture')"
   ]
  },
  {
   "cell_type": "markdown",
   "id": "96008270",
   "metadata": {},
   "source": [
    "### Visualise predictions"
   ]
  },
  {
   "cell_type": "code",
   "execution_count": null,
   "id": "9f4dfecb",
   "metadata": {
    "ExecuteTime": {
     "end_time": "2022-10-24T10:15:30.595213Z",
     "start_time": "2022-10-24T10:15:28.375828Z"
    },
    "code_folding": [],
    "scrolled": false
   },
   "outputs": [],
   "source": [
    "# Visualise the predictions\n",
    "df = parse_csvs()\n",
    "config, g2i, i2g, i2ohe, ohe2i, X, y, X_train, X_valid, y_train, y_valid = \\\n",
    "    build_dataset(df, config)\n",
    "\n",
    "window_size = config['window_size']\n",
    "@interact(idx=(2*window_size, len(df) - window_size, 5))\n",
    "def view_predictions(idx=window_size):\n",
    "    if idx < 2*window_size or idx > len(df) - window_size:\n",
    "        print(f\"Clamping idx to between {2*window_size} and {len(df) - window_size}\")\n",
    "        idx = min(len(df) - window_size, max(idx, 2*window_size))\n",
    "    \n",
    "    y_orig = df['gesture'].to_numpy()\n",
    "    X_orig = df.drop(['datetime', 'gesture'], axis=1).to_numpy()\n",
    "    t_orig = df['datetime'].to_numpy()\n",
    "\n",
    "    s, f = idx-window_size, idx+1#+window_size\n",
    "    X_window = X[s:f]\n",
    "    y_window = y[s:f]\n",
    "    \n",
    "\n",
    "    shape = model.get_config()['layers'][0]['config']['batch_input_shape']\n",
    "    assert shape[1] == X_window.shape[1] and shape[2] == X_window.shape[2], \\\n",
    "        f'Shape in config is not the shape of the model'\n",
    "    proba_preds = model.predict(X_window, verbose=0)\n",
    "    X_window = X_window[:, 0, :]\n",
    "    \n",
    "    mask = np.max(proba_preds, axis=1) < 0.0\n",
    "    preds = i2g(np.argmax(proba_preds, axis=1))\n",
    "    preds[mask] = 'gesture0255'\n",
    "    preds = [g.replace('gesture0', 'g').replace('g255', '') for g in preds]\n",
    "\n",
    "#     plot_timeseries(\n",
    "#         X_window,\n",
    "#         i2g(y_window),\n",
    "#         preds,\n",
    "#         per='finger'\n",
    "#     )\n",
    "#     plt.suptitle(f'Observation at {idx}')\n",
    "#     plt.show()\n",
    "#     # TODO also show prediction probabilities over time\n",
    "\n",
    "    fig, axs = plt.subplots(2, 1, figsize=(6, 7))\n",
    "    sns.heatmap(\n",
    "        X[idx].T,\n",
    "        xticklabels=[g.replace('gesture0', 'g').replace('g255', '') for g in i2g(y_window)],\n",
    "        ax=axs[0],\n",
    "        cbar=None,\n",
    "        vmax=900,\n",
    "        vmin=300,\n",
    "    )\n",
    "#     axs[0].set_xticklabels(\n",
    "#         [g.replace('gesture0', 'g').replace('g255', '') for g in i2g(y_window)],\n",
    "#         rotation=90\n",
    "#     )\n",
    "    axs[0].set_title(f'Heatmap of Sensor measurements')\n",
    "    axs[0].set_xlabel(f'Actual labels')\n",
    "    axs[0].set_ylabel(f'Sensor')\n",
    "    cm = plt.get_cmap('tab20')\n",
    "    NUM_COLORS = len(np.unique(y_orig))\n",
    "\n",
    "    axs[1].set_prop_cycle(color=([cm(1.*i/NUM_COLORS) for i in range(NUM_COLORS)]))\n",
    "    axs[1].plot(\n",
    "        proba_preds, \n",
    "        label=np.unique(y_orig),\n",
    "    )\n",
    "    axs[1].set_title(f'Lineplot of model predictions')\n",
    "    axs[1].set_xticks(range(X[idx].shape[0]))\n",
    "    axs[1].set_ylim((0, 1))\n",
    "    axs[1].set_xlabel(f'Predicted Labels')\n",
    "    axs[1].set_ylabel(f'Softmax of Final Layer')\n",
    "    axs[1].set_xticklabels(preds[-X[idx].shape[0]:], rotation=90)\n",
    "    plt.tight_layout()\n",
    "    plt.show()\n",
    "print(\"TODO: Make this show a larger region at once\")"
   ]
  },
  {
   "cell_type": "code",
   "execution_count": null,
   "id": "46786efe",
   "metadata": {
    "ExecuteTime": {
     "end_time": "2022-10-31T10:27:36.134329Z",
     "start_time": "2022-10-31T10:27:32.874848Z"
    }
   },
   "outputs": [],
   "source": [
    "df = parse_csvs()\n",
    "config, g2i, i2g, i2ohe, ohe2i, X, y, X_train, X_valid, y_train, y_valid = \\\n",
    "    build_dataset(df, config | {'label_expansion': 0})\n",
    "idx = np.where(y == g2i('gesture0036'))[0][34]\n",
    "s = idx-16 - 10\n",
    "f = idx+16 - 10\n",
    "labels = [str(dt).replace('2022-10-18 ', '')[:-3] for dt in df.iloc[s:f]['datetime']]\n",
    "vals = X[s:f, -1, :]\n",
    "normed = (vals - vals.mean(axis=0)) / vals.std(axis=0)\n",
    "\n",
    "plot_timeseries(normed, i2g(y[s:f]), labels, per='finger')\n",
    "plt.tight_layout()\n",
    "plt.savefig('../../report/imgs/gesture_over_time.pdf')"
   ]
  },
  {
   "cell_type": "markdown",
   "id": "53ca7bf9",
   "metadata": {},
   "source": [
    "### Make figure for describing the training procedure"
   ]
  },
  {
   "cell_type": "code",
   "execution_count": null,
   "id": "cb70a2ec",
   "metadata": {
    "ExecuteTime": {
     "end_time": "2022-10-31T10:32:21.315976Z",
     "start_time": "2022-10-31T10:32:17.787033Z"
    }
   },
   "outputs": [],
   "source": [
    "df = parse_csvs()\n",
    "config, g2i, i2g, i2ohe, ohe2i, X, y, X_train, X_valid, y_train, y_valid = \\\n",
    "    build_dataset(df, config | {'label_expansion': 0})\n",
    "idx = np.where(y == g2i('gesture0001'))[0][19]\n",
    "s = idx-50 - 6\n",
    "f = idx+15 - 6\n",
    "# labels = [str(dt).replace('2022-10-08 ', '')[:-3] for dt in df.iloc[s:f]['datetime']]\n",
    "labels = [f'timestep {i:0>2}' for i in range(len(df.iloc[s:f]['datetime']))]\n",
    "vals = X[s:f, -1, :]\n",
    "# normed = (vals - vals.mean(axis=0)) / vals.std(axis=0)\n",
    "\n",
    "plot_timeseries(X=vals, y=i2g(y[s:f]), t=labels, per='finger')\n",
    "plt.tight_layout()\n",
    "plt.savefig('../../report/imgs/explain_recording_procedure_raw.pdf')"
   ]
  },
  {
   "cell_type": "markdown",
   "id": "17087680",
   "metadata": {},
   "source": [
    "## Weights And Biases Hyperparameter Sweeps"
   ]
  },
  {
   "cell_type": "code",
   "execution_count": null,
   "id": "3f863e30",
   "metadata": {
    "ExecuteTime": {
     "end_time": "2022-10-30T19:46:46.781987Z",
     "start_time": "2022-10-30T19:46:44.291282Z"
    }
   },
   "outputs": [],
   "source": [
    "\n",
    "with open('sweep.yaml', \"r\") as file:\n",
    "    sweep_config = yaml.safe_load(file)\n",
    "sweep_id = wandb.sweep(sweep_config, project=\"ergo\")"
   ]
  }
 ],
 "metadata": {
  "kernelspec": {
   "display_name": "data-science",
   "language": "python",
   "name": ".venv"
  },
  "language_info": {
   "codemirror_mode": {
    "name": "ipython",
    "version": 3
   },
   "file_extension": ".py",
   "mimetype": "text/x-python",
   "name": "python",
   "nbconvert_exporter": "python",
   "pygments_lexer": "ipython3",
   "version": "3.10.5"
  },
  "varInspector": {
   "cols": {
    "lenName": 16,
    "lenType": 16,
    "lenVar": 40
   },
   "kernels_config": {
    "python": {
     "delete_cmd_postfix": "",
     "delete_cmd_prefix": "del ",
     "library": "var_list.py",
     "varRefreshCmd": "print(var_dic_list())"
    },
    "r": {
     "delete_cmd_postfix": ") ",
     "delete_cmd_prefix": "rm(",
     "library": "var_list.r",
     "varRefreshCmd": "cat(var_dic_list()) "
    }
   },
   "types_to_exclude": [
    "module",
    "function",
    "builtin_function_or_method",
    "instance",
    "_Feature"
   ],
   "window_display": false
  }
 },
 "nbformat": 4,
 "nbformat_minor": 5
}
