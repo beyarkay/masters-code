{
 "cells": [
  {
   "cell_type": "code",
   "execution_count": null,
   "id": "999271bc",
   "metadata": {
    "code_folding": [
     0
    ]
   },
   "outputs": [],
   "source": [
    "# Imports\n",
    "import tensorflow as tf\n",
    "from tensorflow import keras\n",
    "from tensorflow.keras import layers\n",
    "\n",
    "import numpy as np\n",
    "import matplotlib.pyplot as plt\n",
    "import seaborn as sns\n",
    "import pandas as pd"
   ]
  },
  {
   "cell_type": "code",
   "execution_count": null,
   "id": "aea697b7",
   "metadata": {
    "code_folding": [
     0,
     2
    ]
   },
   "outputs": [],
   "source": [
    "# Function and constant definitions\n",
    "\n",
    "FINGERS = [\n",
    "    'left-5-x',\n",
    "    'left-5-y',\n",
    "    'left-5-z',\n",
    "    'left-4-x',\n",
    "    'left-4-y',\n",
    "    'left-4-z',\n",
    "    'left-3-x',\n",
    "    'left-3-y',\n",
    "    'left-3-z',\n",
    "    'left-2-x',\n",
    "    'left-2-y',\n",
    "    'left-2-z',\n",
    "    'left-1-x',\n",
    "    'left-1-y',\n",
    "    'left-1-z',\n",
    "    'right-1-x',\n",
    "    'right-1-y',\n",
    "    'right-1-z',\n",
    "    'right-2-x',\n",
    "    'right-2-y',\n",
    "    'right-2-z',\n",
    "    'right-3-x',\n",
    "    'right-3-y',\n",
    "    'right-3-z',\n",
    "    'right-4-x',\n",
    "    'right-4-y',\n",
    "    'right-4-z',\n",
    "    'right-5-x',\n",
    "    'right-5-y',\n",
    "    'right-5-z',    \n",
    "]\n",
    "\n",
    "def make_batches(X, y, window_size=10):\n",
    "    ends = np.array(range(window_size, len(y) - 1))\n",
    "#     ends = np.nonzero(y != 'gesture0255')[0] + 1\n",
    "    starts = ends - window_size\n",
    "    batched_X = np.empty((ends.shape[0], window_size, X.shape[1]))\n",
    "    batched_y = np.empty((ends.shape[0],), dtype='object')\n",
    "    for i in range(batched_y.shape[0]):\n",
    "        batched_X[i] = X[starts[i]:ends[i]]\n",
    "        batched_y[i] = y[ends[i]]\n",
    "    return batched_X, batched_y\n",
    "\n",
    "def gestures_and_indices(y):\n",
    "    labels = sorted(np.unique(y))\n",
    "    g2i_dict = {g:i for i, g in enumerate(labels)}\n",
    "    i2g_dict = {i:g for i, g in enumerate(labels)}\n",
    "    def g2i(g):\n",
    "        return np.array([g2i_dict[gi] for gi in g])\n",
    "    def i2g(i):\n",
    "        return np.array([i2g_dict[ii] for ii in i])\n",
    "    return g2i, i2g\n",
    "\n",
    "def one_hot_and_back(y_all):\n",
    "    return (\n",
    "        lambda y: tf.one_hot(y, len(np.unique(y_all))),\n",
    "        lambda onehot: tf.argmax(one_hot, axis=1)\n",
    "    )\n",
    "\n",
    "def conf_mat(model, X, y):\n",
    "    y_pred = np.argmax(model.predict(X), axis=1)\n",
    "    y_true = y\n",
    "\n",
    "    confusion_mtx = tf.math.confusion_matrix(y_true, y_pred)\n",
    "    plt.figure(figsize=(10, 8))\n",
    "    sns.heatmap(confusion_mtx, annot=True, fmt='g')\n",
    "    plt.xlabel('Predicted Label')\n",
    "    plt.ylabel('True Label')\n"
   ]
  },
  {
   "cell_type": "code",
   "execution_count": null,
   "id": "4f55f102",
   "metadata": {},
   "outputs": [],
   "source": [
    "df = pd.read_csv(\n",
    "    '../gesture_data/train/2022-08-18T21:24:24.314934.csv',\n",
    "    names=['datetime', 'gesture'] + FINGERS,\n",
    "    parse_dates=[1]\n",
    ")\n",
    "df.datetime = df.datetime.apply(pd.Timestamp)\n",
    "X, y = make_batches(    \n",
    "    df.drop(['datetime', 'gesture'], axis=1).to_numpy(), \n",
    "    df['gesture'].to_numpy()\n",
    ")\n",
    "# Get functions to convert between gestures and indices\n",
    "g2i, i2g = gestures_and_indices(y)\n",
    "y = g2i(y)\n",
    "# Get functions to convert between indices and one hot encodings\n",
    "i2ohe, ohe2i = one_hot_and_back(y)\n",
    "\n",
    "total = len(y)\n",
    "n_unique = len(np.unique(y))\n",
    "class_weight = {\n",
    "    class_: (1/weight * total/n_unique) for class_, weight in zip(*np.unique(y, return_counts=True))\n",
    "}\n",
    "X_train, X_valid = X[total//4:], X[:total//4]\n",
    "y_train, y_valid = y[total//4:], y[:total//4]"
   ]
  },
  {
   "cell_type": "code",
   "execution_count": null,
   "id": "2985ba39",
   "metadata": {},
   "outputs": [],
   "source": [
    "inputs = layers.Input(shape=X.shape[1:])\n",
    "\n",
    "normalizer = layers.Normalization(axis=-1)\n",
    "normalizer.adapt(X)\n",
    "x = normalizer(inputs)\n",
    "\n",
    "x = layers.Flatten()(x)\n",
    "x = layers.Dense(units=256)(x)\n",
    "\n",
    "outputs = layers.Dense(len(np.unique(y)), activation=\"softmax\")(x)\n",
    "\n",
    "model = keras.Model(inputs=inputs, outputs=outputs)\n",
    "\n",
    "model.compile(\n",
    "    optimizer=keras.optimizers.RMSprop(learning_rate=1e-3),\n",
    "    loss=keras.losses.SparseCategoricalCrossentropy(),\n",
    "    metrics=[keras.metrics.SparseCategoricalAccuracy('acc')],\n",
    ")\n",
    "\n",
    "history = model.fit(\n",
    "    X, \n",
    "    y,\n",
    "    batch_size=32, \n",
    "    epochs=30,\n",
    "    validation_data=(X_valid, y_valid),\n",
    "#     class_weight=class_weight,\n",
    ")\n"
   ]
  },
  {
   "cell_type": "code",
   "execution_count": null,
   "id": "0eafa264",
   "metadata": {
    "code_folding": []
   },
   "outputs": [],
   "source": [
    "conf_mat(model, X_valid, y_valid)\n",
    "plt.title('Validation set')\n",
    "plt.show()\n",
    "\n",
    "conf_mat(model, X_train, y_train)\n",
    "plt.title('Training set')\n",
    "plt.show"
   ]
  },
  {
   "cell_type": "markdown",
   "id": "f17cc145",
   "metadata": {},
   "source": [
    "---"
   ]
  }
 ],
 "metadata": {
  "kernelspec": {
   "display_name": ".venv",
   "language": "python",
   "name": ".venv"
  },
  "language_info": {
   "codemirror_mode": {
    "name": "ipython",
    "version": 3
   },
   "file_extension": ".py",
   "mimetype": "text/x-python",
   "name": "python",
   "nbconvert_exporter": "python",
   "pygments_lexer": "ipython3",
   "version": "3.10.5"
  },
  "varInspector": {
   "cols": {
    "lenName": 16,
    "lenType": 16,
    "lenVar": 40
   },
   "kernels_config": {
    "python": {
     "delete_cmd_postfix": "",
     "delete_cmd_prefix": "del ",
     "library": "var_list.py",
     "varRefreshCmd": "print(var_dic_list())"
    },
    "r": {
     "delete_cmd_postfix": ") ",
     "delete_cmd_prefix": "rm(",
     "library": "var_list.r",
     "varRefreshCmd": "cat(var_dic_list()) "
    }
   },
   "types_to_exclude": [
    "module",
    "function",
    "builtin_function_or_method",
    "instance",
    "_Feature"
   ],
   "window_display": false
  }
 },
 "nbformat": 4,
 "nbformat_minor": 5
}
