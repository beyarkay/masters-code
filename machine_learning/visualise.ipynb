{
 "cells": [
  {
   "cell_type": "markdown",
   "id": "d4374c8b",
   "metadata": {},
   "source": [
    "# Visualise *Ergo* data\n",
    "This notebook contains various ad-hoc means of visualising data collected from *Ergo*. See the report [here](https://git.cs.sun.ac.za/Computer-Science/rw771/2022/26723077-TG7-doc) or the source code [here](https://git.cs.sun.ac.za/Computer-Science/rw771/2022/26723077-TG7-src)."
   ]
  },
  {
   "cell_type": "markdown",
   "id": "5ff028b3",
   "metadata": {},
   "source": [
    "## Import libraries and define constants"
   ]
  },
  {
   "cell_type": "code",
   "execution_count": 2,
   "id": "a6f30ecd",
   "metadata": {},
   "outputs": [],
   "source": [
    "import matplotlib.pyplot as plt\n",
    "import matplotlib.image as mplimg\n",
    "import matplotlib as mpl\n",
    "# By default use a larger figure size\n",
    "mpl.rcParams['figure.figsize'] = [12, 12]\n",
    "mpl.rcParams['figure.dpi'] = 72\n",
    "import numpy as np\n",
    "import pandas as pd\n",
    "import seaborn as sns\n",
    "import sys\n",
    "import os\n",
    "import ipywidgets as widgets\n",
    "from ipywidgets import interact, interact_manual\n",
    "# Setup seaborn\n",
    "sns.set()\n",
    "%matplotlib inline\n",
    "\n",
    "# Define some variables for creating feature names like 'left-thumb-x' or 'right-index-z'\n",
    "hands = ['left', 'right']\n",
    "finger_names = ['thumb', 'index', 'middle', 'ring', 'little']\n",
    "dimensions = ['x', 'y', 'z']\n",
    "# Actually create some feature names to give the data meaningful labels\n",
    "fingers = []\n",
    "for hand in hands:\n",
    "    for finger_name in finger_names:\n",
    "        for dimension in dimensions:\n",
    "            fingers.append(f'{hand}-{finger_name}-{dimension}')"
   ]
  },
  {
   "cell_type": "markdown",
   "id": "58fa09d5",
   "metadata": {},
   "source": [
    "## Interactively view the raw data\n",
    "This cell lets you view the raw training data as found in `../gesture_data/train/{gesture}/{timestamp}`. Run the cell, and then you can choose which gesture to view (ie `gesture0001`, `gesture0002`, `gesture0003`) and then which observation of that gesture to view (ie `1`, `2`, `3`). \n",
    "\n",
    "Note that the raw sensor data is not all centered at the same position (so a no-acceleration value from one sensor might be different to the no-acceleration value from another sensor). Check the `normalise` checkbox in order to roughly center all the values around their common average. Specifically, the `-z` sensors are usually quite different from the `-x` and `-y` sensors since the `-z` component is in the direction of gravity."
   ]
  },
  {
   "cell_type": "code",
   "execution_count": 11,
   "id": "4e4d6268",
   "metadata": {
    "scrolled": false
   },
   "outputs": [
    {
     "data": {
      "application/vnd.jupyter.widget-view+json": {
       "model_id": "456b947a19f74e94a6a6ff66e8966f50",
       "version_major": 2,
       "version_minor": 0
      },
      "text/plain": [
       "interactive(children=(Dropdown(description='gesture', options=('gesture0002', 'gesture0004', 'gesture0012', 'g…"
      ]
     },
     "metadata": {},
     "output_type": "display_data"
    }
   ],
   "source": [
    "# Get a listing of all directories and their files\n",
    "dir_files = {d: os.listdir(f'../gesture_data/train/{d}') for d in os.listdir(f'../gesture_data/train') if d != \".DS_Store\"}\n",
    "# Filter out all directories which don't have any files in them\n",
    "dir_files = {d: files for d, files in dir_files.items() if len(files) > 0}\n",
    "max_files = max([len(files) for files in dir_files.values()])\n",
    "dirs = sorted(list(dir_files.keys()))\n",
    "\n",
    "@interact(gesture=dirs, idx=(0, max_files, 1), normalise=True)\n",
    "def showfile(gesture, idx, normalise):\n",
    "    try:\n",
    "        names = [f for f in os.listdir(f'../gesture_data/train/{gesture}') if f.endswith('.txt')]   \n",
    "        idx = min(idx, len(names)-1)\n",
    "        if idx == len(names)-1:\n",
    "            print(f\"\"\"Warning: you've selected an index ({idx}) greater than the number of observations for gesture {gesture} () so observation {len(names)-1} is being shown instead.\"\"\")\n",
    "        filename = f'../gesture_data/train/{gesture}/{names[idx]}'\n",
    "        arr = np.genfromtxt(filename, delimiter=\",\")[:,1:]\n",
    "    except FileNotFoundError:\n",
    "        print(f\"Failed to find file for {gesture=}, {idx=}\")\n",
    "        return\n",
    "    if normalise:\n",
    "        arr = arr - np.mean(arr, axis=0) + np.mean(arr)\n",
    "    arr = arr.T\n",
    "    cumsum = np.cumsum(arr - np.repeat(np.mean(arr, axis=1), arr.shape[1]).reshape(arr.shape), axis=1)\n",
    "\n",
    "    fig, axs = plt.subplots(1, figsize=(16,10))\n",
    "\n",
    "    fig.suptitle(f'File {filename}')\n",
    "    \n",
    "    # Plot the heatmap\n",
    "    img = axs.imshow(arr, cmap='viridis', aspect='auto')\n",
    "\n",
    "    # Plot line chart 1\n",
    "    axs.set_yticks([i for i in range(30)])\n",
    "    axs.set_yticklabels(fingers)\n",
    "    axs.grid(visible=None)\n",
    "    "
   ]
  },
  {
   "cell_type": "code",
   "execution_count": null,
   "id": "58c8714c",
   "metadata": {},
   "outputs": [],
   "source": []
  }
 ],
 "metadata": {
  "kernelspec": {
   "display_name": "Python 3 (ipykernel)",
   "language": "python",
   "name": "python3"
  },
  "language_info": {
   "codemirror_mode": {
    "name": "ipython",
    "version": 3
   },
   "file_extension": ".py",
   "mimetype": "text/x-python",
   "name": "python",
   "nbconvert_exporter": "python",
   "pygments_lexer": "ipython3",
   "version": "3.9.12"
  }
 },
 "nbformat": 4,
 "nbformat_minor": 5
}
