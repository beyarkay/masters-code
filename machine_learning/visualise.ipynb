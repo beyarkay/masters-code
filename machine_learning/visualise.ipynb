{
 "cells": [
  {
   "cell_type": "markdown",
   "id": "cd6df63e",
   "metadata": {},
   "source": [
    "# Visualise *Ergo* data\n",
    "This notebook contains various ad-hoc means of visualising data collected from *Ergo*. See the report [here](https://git.cs.sun.ac.za/Computer-Science/rw771/2022/26723077-TG7-doc) or the source code [here](https://git.cs.sun.ac.za/Computer-Science/rw771/2022/26723077-TG7-src)."
   ]
  },
  {
   "cell_type": "markdown",
   "id": "acff0de4",
   "metadata": {},
   "source": [
    "## Import libraries and define constants"
   ]
  },
  {
   "cell_type": "code",
   "execution_count": null,
   "id": "a6f30ecd",
   "metadata": {},
   "outputs": [],
   "source": [
    "%load_ext autoreload\n",
    "%autoreload 2\n",
    "from common_utils import *\n",
    "gesture_info = get_gesture_info()\n",
    "dir_files = get_dir_files()"
   ]
  },
  {
   "cell_type": "markdown",
   "id": "a56339ab",
   "metadata": {},
   "source": [
    "## Interactively view the raw data\n",
    "This cell lets you view the raw training data as found in `../gesture_data/train/{gesture}/{timestamp}`. Run the cell, and then you can choose which gesture to view (ie `gesture0001`, `gesture0002`, `gesture0003`) and then which observation of that gesture to view (ie `1`, `2`, `3`). \n",
    "\n",
    "Note that the raw sensor data is not all centered at the same position (so a no-acceleration value from one sensor might be different to the no-acceleration value from another sensor). Check the `normalise` checkbox in order to roughly center all the values around their common average. Specifically, the `-z` sensors are usually quite different from the `-x` and `-y` sensors since the `-z` component is in the direction of gravity."
   ]
  },
  {
   "cell_type": "code",
   "execution_count": null,
   "id": "4e4d6268",
   "metadata": {
    "scrolled": false
   },
   "outputs": [],
   "source": [
    "max_files = max([len(files) for files in dir_files.values()])\n",
    "dirs = sorted(list(dir_files.keys()))\n",
    "\n",
    "@interact(gesture=dirs, observation_index=(0, max_files, 1))\n",
    "def showfile(gesture, observation_index):\n",
    "    try:\n",
    "        filenames = sorted([f for f in os.listdir(f'../gesture_data/train/{gesture}') if f.endswith('.txt')])\n",
    "        idx = min(observation_index, len(filenames)-1)\n",
    "        if idx == len(filenames)-1:\n",
    "            print(f\"\"\"Warning: you've selected an index ({idx}) greater than the number of observations for gesture {gesture} ({len(filenames)}) so observation {len(filenames)-1} is being shown instead.\"\"\")\n",
    "        filename = f'../gesture_data/train/{gesture}/{filenames[idx]}'\n",
    "        arr = np.genfromtxt(filename, delimiter=\",\")[:,1:]\n",
    "    except (FileNotFoundError, IndexError):\n",
    "        print(f\"Failed to find file for {gesture=}, {idx=}, {filename=}\")\n",
    "        return\n",
    "    df = read_to_df(filename, normalise=True)\n",
    "    plot_raw_gesture(df, filename)\n",
    "    print(df.min().min(), df.max().max())\n"
   ]
  },
  {
   "cell_type": "markdown",
   "id": "af2e5c30",
   "metadata": {},
   "source": [
    "## (Work in progress) Live view the most recent data"
   ]
  },
  {
   "cell_type": "code",
   "execution_count": null,
   "id": "5f297ca6",
   "metadata": {
    "scrolled": false
   },
   "outputs": [],
   "source": [
    "last_most_recent_file = ''\n",
    "while True:\n",
    "    all_files = []\n",
    "    for gesture, files in get_dir_files().items():\n",
    "        all_files.extend([f'{f},{gesture}' for f in files])\n",
    "\n",
    "    file, gesture = sorted(all_files)[-1].split(',')\n",
    "    most_recent_file = f'../gesture_data/train/{gesture}/{file}'\n",
    "    if last_most_recent_file != most_recent_file:\n",
    "        last_most_recent_file = most_recent_file\n",
    "        arr = np.genfromtxt(most_recent_file, delimiter=\",\")[:,1:]\n",
    "        df = read_to_df(most_recent_file, normalise=True)\n",
    "        fig, ax = plot_raw_gesture(df, most_recent_file)\n",
    "        print(f'plotting {most_recent_file}')\n",
    "        plt.show()\n"
   ]
  },
  {
   "cell_type": "code",
   "execution_count": null,
   "id": "8c8a9c10",
   "metadata": {},
   "outputs": [],
   "source": []
  }
 ],
 "metadata": {
  "kernelspec": {
   "display_name": "Python 3 (ipykernel)",
   "language": "python",
   "name": "python3"
  },
  "language_info": {
   "codemirror_mode": {
    "name": "ipython",
    "version": 3
   },
   "file_extension": ".py",
   "mimetype": "text/x-python",
   "name": "python",
   "nbconvert_exporter": "python",
   "pygments_lexer": "ipython3",
   "version": "3.9.13"
  }
 },
 "nbformat": 4,
 "nbformat_minor": 5
}
