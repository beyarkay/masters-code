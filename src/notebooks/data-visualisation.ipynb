{
 "cells": [
  {
   "cell_type": "markdown",
   "id": "d69b0d03",
   "metadata": {},
   "source": [
    "# Data Visualisation"
   ]
  },
  {
   "cell_type": "code",
   "execution_count": null,
   "id": "a85a2aca",
   "metadata": {
    "ExecuteTime": {
     "end_time": "2023-08-29T19:43:43.557000Z",
     "start_time": "2023-08-29T19:43:43.545482Z"
    },
    "code_folding": [],
    "scrolled": true
   },
   "outputs": [],
   "source": [
    "# Change directory to keep paths consistent\n",
    "%cd /Users/brk/projects/masters/SU/ergo/src"
   ]
  },
  {
   "cell_type": "markdown",
   "id": "f7e9882e",
   "metadata": {},
   "source": [
    "### Imports and setup"
   ]
  },
  {
   "cell_type": "code",
   "execution_count": null,
   "id": "7d078368",
   "metadata": {
    "ExecuteTime": {
     "end_time": "2023-08-29T19:43:49.670887Z",
     "start_time": "2023-08-29T19:43:49.628148Z"
    },
    "code_folding": [
     0
    ]
   },
   "outputs": [],
   "source": [
    "# minimise me\n",
    "%load_ext autoreload\n",
    "%autoreload 2\n",
    "import seaborn as sns\n",
    "import seaborn.objects as so\n",
    "import matplotlib.pyplot as plt\n",
    "import ipywidgets as widgets\n",
    "import datetime\n",
    "from ipywidgets import interact, interactive, fixed, interact_manual\n",
    "import pandas as pd\n",
    "import numpy as np\n",
    "import models\n",
    "import vis\n",
    "import common\n",
    "import read\n",
    "import tensorflow as tf\n",
    "from tensorflow import keras\n",
    "from keras import layers\n",
    "from sklearn.model_selection import train_test_split\n",
    "import sklearn\n",
    "import tqdm\n",
    "import logging as l\n",
    "import tqdm\n",
    "import yaml\n",
    "import glob\n",
    "from matplotlib.colors import LogNorm\n",
    "import re\n",
    "from sklearn.metrics import classification_report\n",
    "from scipy.stats import f"
   ]
  },
  {
   "cell_type": "markdown",
   "id": "c1bbd3fa",
   "metadata": {},
   "source": [
    "### Utility functions"
   ]
  },
  {
   "cell_type": "code",
   "execution_count": null,
   "id": "736d1411",
   "metadata": {
    "ExecuteTime": {
     "end_time": "2023-08-29T19:43:54.408052Z",
     "start_time": "2023-08-29T19:43:54.365120Z"
    },
    "code_folding": [
     0
    ]
   },
   "outputs": [],
   "source": [
    "# minimise me\n",
    "def heatmap(fn, X_val, y_val, axis=1):\n",
    "    y_val_pred = np.argmax(tf.nn.softmax(fn(X_val)).numpy(), axis=axis)\n",
    "\n",
    "    cm_val = tf.math.confusion_matrix(\n",
    "        y_val.flatten(), \n",
    "        y_val_pred.flatten()\n",
    "    ).numpy()\n",
    "    cm_val[-1, -1] = 0\n",
    "    return sns.heatmap(\n",
    "        cm_val,\n",
    "        annot=False,\n",
    "        fmt='d',\n",
    "        square=True,\n",
    "        mask=(cm_val==0),\n",
    "        cmap='viridis'\n",
    "    )\n",
    "\n",
    "def prettify_col_name(x):\n",
    "    return x.split('.')[-1].replace('_', ' ').title()\n",
    "\n",
    "def calculate_prediction_ellipse(x, y, alpha=0.5):\n",
    "    data = np.column_stack((x, y)) # Combine x and y into a single data array\n",
    "    num_dimensions = data.shape[1]\n",
    "    num_data_points = data.shape[0]\n",
    "    # Estimate the sample covariance matrix\n",
    "    sample_covariance_matrix = np.cov(data, rowvar=False)\n",
    "    # Calculate the sample mean for each dimension\n",
    "    sample_mean = np.mean(data, axis=0)\n",
    "    # Generate angles for the ellipse\n",
    "    theta = np.linspace(0, 2*np.pi, num=100)\n",
    "    # Calculate the radius of the ellipse. `f.ppf` is the inverse of the CDF\n",
    "    radius = np.sqrt(\n",
    "        num_dimensions * (num_data_points - 1) / (num_data_points - num_dimensions) *\n",
    "        (1 + 1/num_data_points) * f.ppf(1 - alpha, num_dimensions, num_data_points - num_dimensions)\n",
    "    )\n",
    "#     print(sample_covariance_matrix)\n",
    "    # Compute the Cholesky decomposition of the covariance matrix\n",
    "    chol_cov_matrix = np.linalg.cholesky(sample_covariance_matrix)\n",
    "    # Generate ellipse offset based on Cholesky decomposition\n",
    "    ellipse_offset = np.outer(np.cos(theta), chol_cov_matrix[0, :]) + np.outer(np.sin(theta), chol_cov_matrix[1, :])\n",
    "    # Calculate the points of the prediction interval ellipse\n",
    "    prediction_ellipse_points = sample_mean + radius * ellipse_offset\n",
    "    return prediction_ellipse_points\n"
   ]
  },
  {
   "cell_type": "markdown",
   "id": "3aa46788",
   "metadata": {},
   "source": [
    "## Load data"
   ]
  },
  {
   "cell_type": "code",
   "execution_count": null,
   "id": "75eab12f",
   "metadata": {
    "ExecuteTime": {
     "end_time": "2023-08-29T19:43:56.082352Z",
     "start_time": "2023-08-29T19:43:55.702011Z"
    },
    "code_folding": []
   },
   "outputs": [],
   "source": [
    "# Read in data from hpar optimisation\n",
    "df_ffnn = pd.read_json(\n",
    "    '../saved_models/results_ffnn_opt_bigger.jsonl',\n",
    "    lines=True\n",
    ")\n",
    "df_cusum = pd.read_json(\n",
    "    '../saved_models/results_cusum_opt_bigger.jsonl',\n",
    "    lines=True\n",
    ")\n",
    "df_hmm = pd.read_json(\n",
    "    '../saved_models/results_hmm_opt_bigger.jsonl',\n",
    "    lines=True\n",
    ")\n",
    "# Concat the dataframes together, and then do a \n",
    "# copy to avoid a dataframe fragmentation warning\n",
    "# Reset the index to avoid a seaborn error https://github.com/mwaskom/seaborn/issues/3291\n",
    "df = pd.concat((\n",
    "    df_ffnn, \n",
    "    df_cusum, \n",
    "    df_hmm\n",
    ")).reset_index(drop=True).copy()"
   ]
  },
  {
   "cell_type": "markdown",
   "id": "f0541d3e",
   "metadata": {},
   "source": [
    "### Calculate some auxillary values"
   ]
  },
  {
   "cell_type": "code",
   "execution_count": null,
   "id": "6f670b87",
   "metadata": {
    "ExecuteTime": {
     "end_time": "2023-08-29T19:43:58.969162Z",
     "start_time": "2023-08-29T19:43:58.900637Z"
    },
    "code_folding": []
   },
   "outputs": [],
   "source": [
    "# Preprocess the data a little bit, and get a list of dependant variables\n",
    "# Preprocess the df a bit to get some nice-to-use columns\n",
    "df['ffnn.nodes_per_layer.1'] = df['ffnn.nodes_per_layer'].apply(\n",
    "    lambda x: x[0] if isinstance(x, list) else x\n",
    ")\n",
    "df['ffnn.nodes_per_layer.2'] = df['ffnn.nodes_per_layer'].apply(\n",
    "    lambda x: x[1] if isinstance(x, list) else x\n",
    ")\n",
    "# Calculate ratios\n",
    "\n",
    "avgs = ('macro avg', 'weighted avg')\n",
    "metrics = ('f1-score', 'precision', 'recall')\n",
    "\n",
    "for avg in avgs:\n",
    "    for metric in metrics:\n",
    "        df[f'ratio.{avg}.{metric}'] = df[f'trn.{avg}.{metric}'] / df[f'val.{avg}.{metric}']\n",
    "        df[f'ratio.{avg}.{metric}'] = np.where(\n",
    "            np.isfinite(df[f'ratio.{avg}.{metric}']),\n",
    "            df[f'ratio.{avg}.{metric}'],\n",
    "            np.nan\n",
    "        )\n",
    "\n",
    "# Print out a list of dependant variables\n",
    "dep_vars = sorted([\n",
    "    c for c in df.columns \n",
    "    if 'val' not in c and 'trn' not in c and 'ratio' not in c and c not in (\n",
    "        'saved_at', 'fit_time', 'preprocessing.gesture_allowlist', \n",
    ")], key=lambda c: str(c))\n",
    "print(f\"Dependant variables: {dep_vars}\")\n",
    "print(\"\\nVariables which change:\")\n",
    "max_len = max(map(lambda x: len(x), dep_vars))\n",
    "# Print out all dependant variables that change\n",
    "for var in dep_vars:\n",
    "    uniq = df[var].apply(lambda x: str(x) if isinstance(x, list) else x).unique()\n",
    "    if len(uniq) > 1:\n",
    "        print(f\"{var: <{max_len}} {uniq}\")\n",
    "        \n",
    "df['preprocessing.num_gesture_classes'] = df['preprocessing.num_gesture_classes'].astype(str)\n",
    "df['ffnn.dropout_rate'] = np.round(df['ffnn.dropout_rate'], 6)"
   ]
  },
  {
   "cell_type": "markdown",
   "id": "77179fdf",
   "metadata": {},
   "source": [
    "# Plot the data"
   ]
  },
  {
   "cell_type": "markdown",
   "id": "062ed1bb",
   "metadata": {},
   "source": [
    "## FFNN vs HMM vs CuSUM"
   ]
  },
  {
   "cell_type": "code",
   "execution_count": null,
   "id": "0419ad82",
   "metadata": {
    "ExecuteTime": {
     "end_time": "2023-08-28T09:51:42.396819Z",
     "start_time": "2023-08-28T09:51:42.373088Z"
    }
   },
   "outputs": [],
   "source": [
    "# TODO Add violin plot\n",
    "# TODO look at F1 scores\n",
    "# TODO look at f1=1.0 for FFNN\n",
    "# TODO discuss variance differences within hpars/models (in report)"
   ]
  },
  {
   "cell_type": "code",
   "execution_count": null,
   "id": "7034cf83",
   "metadata": {
    "ExecuteTime": {
     "end_time": "2023-08-28T09:51:43.426368Z",
     "start_time": "2023-08-28T09:51:43.097895Z"
    },
    "scrolled": false
   },
   "outputs": [],
   "source": [
    "subset = df\n",
    "(\n",
    "    so.Plot(subset, x='model_type', y='val.macro avg.f1-score', color='model_type')\n",
    "    .layout(size=(8, 6))\n",
    "    .add(so.Dots(pointsize=3), so.Jitter())\n",
    "    .facet(row='preprocessing.num_gesture_classes')\n",
    "    .limit(y=(-0.05, 1.05))\n",
    "    .label(\n",
    "        x=\"Model Type\", \n",
    "        color='Model Type',\n",
    "        y=\"Macro Average\\n$F_1$ Score\",\n",
    "        title=\"{} Gesture Classes\".format,\n",
    "    )\n",
    ")"
   ]
  },
  {
   "cell_type": "markdown",
   "id": "304beb49",
   "metadata": {},
   "source": [
    "## CuSUM Hyperparameter Comparison"
   ]
  },
  {
   "cell_type": "code",
   "execution_count": null,
   "id": "af44d143",
   "metadata": {
    "ExecuteTime": {
     "end_time": "2023-08-28T09:52:21.382004Z",
     "start_time": "2023-08-28T09:52:21.328913Z"
    }
   },
   "outputs": [],
   "source": [
    "# TODO investigate threshold range <300\n",
    "# TODO replace dots with envelope graph\n",
    "# TODO recall shouldn't increase with threshold"
   ]
  },
  {
   "cell_type": "code",
   "execution_count": null,
   "id": "2de06d08",
   "metadata": {
    "ExecuteTime": {
     "end_time": "2023-08-28T09:52:21.938235Z",
     "start_time": "2023-08-28T09:52:21.651333Z"
    }
   },
   "outputs": [],
   "source": [
    "subset = df[df.model_type=='CuSUM']\n",
    "(\n",
    "    so.Plot(subset, x='cusum.thresh', y='val.macro avg.f1-score')\n",
    "    .layout(size=(8, 6))\n",
    "    .add(so.Dots(pointsize=3), so.Jitter())\n",
    "    .facet(row='preprocessing.num_gesture_classes')\n",
    "    .limit(y=(-.1, 1.1))\n",
    "    .label(\n",
    "        x=\"CuSUM Threshold\", \n",
    "#         color='Model Type',\n",
    "#         y=\"Macro Average\\n$F_1$ Score\",\n",
    "        title=\"CuSUM models\\n({} Gesture Classes)\".format,\n",
    "    )\n",
    ")"
   ]
  },
  {
   "cell_type": "markdown",
   "id": "3b26e3b0",
   "metadata": {},
   "source": [
    "## HMM Comparison"
   ]
  },
  {
   "cell_type": "code",
   "execution_count": null,
   "id": "ab35f751",
   "metadata": {
    "ExecuteTime": {
     "end_time": "2023-08-28T09:52:46.905926Z",
     "start_time": "2023-08-28T09:52:46.882010Z"
    }
   },
   "outputs": [],
   "source": [
    "# TODO violin plot here\n",
    "# TODO remove space in the middle"
   ]
  },
  {
   "cell_type": "code",
   "execution_count": null,
   "id": "a2717ec3",
   "metadata": {
    "ExecuteTime": {
     "end_time": "2023-08-28T09:54:50.997671Z",
     "start_time": "2023-08-28T09:54:50.854619Z"
    }
   },
   "outputs": [],
   "source": [
    "subset = df[df.model_type=='HMM']\n",
    "(\n",
    "    so.Plot(subset, x='preprocessing.num_gesture_classes', y='val.macro avg.f1-score')\n",
    "#     .layout(size=(8, 6))\n",
    "    .add(so.Dots(pointsize=3), so.Jitter())\n",
    "    .limit(y=(-.1, 1.1))\n",
    "    .label(\n",
    "        x=\"Number of Gesture Classes\", \n",
    "        y=\"Macro Average\\n$F_1$ Score\",\n",
    "        title=\"HMM models\",\n",
    "    )\n",
    ")"
   ]
  },
  {
   "cell_type": "markdown",
   "id": "4127c75f",
   "metadata": {},
   "source": [
    "## FFNN Hyperparameter Comparison"
   ]
  },
  {
   "cell_type": "code",
   "execution_count": null,
   "id": "df21cb74",
   "metadata": {
    "ExecuteTime": {
     "end_time": "2023-08-27T07:15:31.409305Z",
     "start_time": "2023-08-27T07:15:31.388376Z"
    }
   },
   "outputs": [],
   "source": [
    "# TODO plot f1 against regularization metric & fit gaussian & color=regularization type"
   ]
  },
  {
   "cell_type": "code",
   "execution_count": null,
   "id": "659cdaf0",
   "metadata": {
    "ExecuteTime": {
     "end_time": "2023-08-28T09:48:57.158742Z",
     "start_time": "2023-08-28T09:48:56.499762Z"
    },
    "code_folding": [],
    "scrolled": false
   },
   "outputs": [],
   "source": [
    "cols = 'ffnn.dropout_rate'\n",
    "cols_name = 'Dropout'\n",
    "rows = 'ffnn.l2_coefficient'\n",
    "rows_name = 'L2'\n",
    "\n",
    "y = 'val.macro avg.f1-score'\n",
    "y_name = 'Val. F1'\n",
    "x = 'ratio.macro avg.f1-score'\n",
    "x_name = 'Ratio F1'\n",
    "\n",
    "colors = 'preprocessing.num_gesture_classes'\n",
    "color_name = '#Classes'\n",
    "\n",
    "data = df\n",
    "data = data.dropna(subset=[x, y, colors])\n",
    "\n",
    "fig, axs = plt.subplots(\n",
    "    data[cols].nunique(),\n",
    "    data[rows].nunique(),\n",
    "    figsize=(\n",
    "        data[rows].nunique() * 3,\n",
    "        data[cols].nunique() * 3,\n",
    "    ),\n",
    "    squeeze=False,\n",
    ")\n",
    "\n",
    "xlim = (\n",
    "    data.loc[np.isfinite(data[x]), x].min() * 0.95, \n",
    "    data.loc[np.isfinite(data[x]), x].max() * 1.05\n",
    ")\n",
    "ylim = (\n",
    "    data.loc[np.isfinite(data[y]), y].min() * 0.95, \n",
    "    data.loc[np.isfinite(data[y]), y].max() * 1.05\n",
    ")\n",
    "\n",
    "for i, col in enumerate(data[cols].unique()):\n",
    "    for j, row in enumerate(data[rows].unique()):\n",
    "        \n",
    "        subset = data[\n",
    "            (data[cols] == col) & \n",
    "            (data[rows] == row)\n",
    "        ]\n",
    "        for k, color in enumerate(subset[colors].unique()):\n",
    "            subsubset = subset[subset[colors] == color]\n",
    "            axs[i, j].scatter(\n",
    "                subsubset[x],\n",
    "                subsubset[y],\n",
    "                s=5,\n",
    "                label=color,\n",
    "                alpha=0.5\n",
    "            )\n",
    "            if subsubset[x].nunique() > 1 and subsubset[y].nunique() > 1:\n",
    "                ellipse = calculate_prediction_ellipse(\n",
    "                    subsubset[x],\n",
    "                    subsubset[y],\n",
    "                )\n",
    "                axs[i, j].plot(\n",
    "                    ellipse[:, 0],\n",
    "                    ellipse[:, 1],\n",
    "                )\n",
    "        axs[i, j].set(\n",
    "            title=f'{cols_name}: {col} | {rows_name}: {row}',\n",
    "            ylim=ylim,\n",
    "            xlim=xlim,\n",
    "        )\n",
    "        if j == 0:\n",
    "            axs[i, j].set(\n",
    "                ylabel=f\"{y_name}\"\n",
    "            )       \n",
    "        if i == data[cols].nunique() - 1:\n",
    "            axs[i, j].set(\n",
    "                xlabel=f\"{x_name}\"\n",
    "            )\n",
    "\n",
    "fig.legend(\n",
    "    bbox_to_anchor=(1.1, 1.05)\n",
    ")\n",
    "plt.tight_layout()"
   ]
  },
  {
   "cell_type": "code",
   "execution_count": null,
   "id": "2e2f8ac7",
   "metadata": {
    "ExecuteTime": {
     "end_time": "2023-08-27T19:05:49.300954Z",
     "start_time": "2023-08-27T19:05:47.590088Z"
    },
    "code_folding": [],
    "scrolled": false
   },
   "outputs": [],
   "source": [
    "changing_ffnn_vars = [\n",
    "    'ffnn.dropout_rate',\n",
    "    'nn.learning_rate',\n",
    "    'ffnn.l2_coefficient',\n",
    "    'ffnn.nodes_per_layer.1',\n",
    "    'ffnn.nodes_per_layer.2',\n",
    "]\n",
    "\n",
    "for var_of_interest in changing_ffnn_vars:\n",
    "    subset = df[df.model_type=='FFNN'].assign(**{\n",
    "        # Convertnum_gesture_classes to a str so it is treated categorically\n",
    "        'preprocessing.num_gesture_classes': lambda df: df['preprocessing.num_gesture_classes'].apply(str),\n",
    "#         var_of_interest: lambda df: df[var_of_interest].apply(lambda x: np.round(x, 6)),\n",
    "    })\n",
    "    (\n",
    "        so.Plot(subset, x='preprocessing.num_gesture_classes')\n",
    "        .add(so.Dots(pointsize=3), so.Jitter())\n",
    "        .pair(y=['val.macro avg.f1-score', 'val.macro avg.recall', 'val.macro avg.precision'])\n",
    "        .facet(col=var_of_interest)\n",
    "        .limit(y0=(-.05, 1.05), y1=(-.05, 1.05), y2=(-.05, 1.05))\n",
    "        .label(\n",
    "            title=lambda s: var_of_interest + ': \\n{}'.format(s),\n",
    "            x=\"#Gesture Classes\",\n",
    "            y0=\"Macro Average\\n$F_1$ Score\",\n",
    "            y1=\"Macro Average\\nRecall\",\n",
    "            y2=\"Macro Average\\nPrecision\",\n",
    "        )\n",
    "        .show()\n",
    "    )"
   ]
  },
  {
   "cell_type": "markdown",
   "id": "b8fd61b8",
   "metadata": {},
   "source": [
    "### View Confusion matrix of a model"
   ]
  },
  {
   "cell_type": "code",
   "execution_count": null,
   "id": "5faefa3a",
   "metadata": {
    "ExecuteTime": {
     "end_time": "2023-08-28T11:25:46.913663Z",
     "start_time": "2023-08-28T11:25:43.065651Z"
    }
   },
   "outputs": [],
   "source": [
    "best = (\n",
    "    df[(df['preprocessing.num_gesture_classes'] == '51')]\n",
    "    .sort_values(['model_type', 'val.macro avg.f1-score'])\n",
    "    .groupby('model_type')\n",
    "    .tail()\n",
    "    .sort_values('val.macro avg.f1-score', ascending=False)\n",
    "    [['val.macro avg.f1-score', 'model_dir', 'model_type']]\n",
    "    .groupby('model_type')\n",
    ")\n",
    "\n",
    "fig, axs = plt.subplots(5, 3, figsize=(9, 15))\n",
    "\n",
    "for i, grouping in enumerate(best.groups):\n",
    "    group = best.get_group(grouping)\n",
    "    for j, (_, row) in enumerate(group.iterrows()):\n",
    "        show_conf_mat_from_model(f\"../{row['model_dir']}\", axs[j, i])\n",
    "        axs[j, i].set(\n",
    "            title=f\"{row['model_type']} ({np.round(row['val.macro avg.f1-score'], 4)})\",\n",
    "        )\n",
    "    "
   ]
  },
  {
   "cell_type": "code",
   "execution_count": null,
   "id": "acb1011c",
   "metadata": {
    "ExecuteTime": {
     "end_time": "2023-08-28T11:24:17.969978Z",
     "start_time": "2023-08-28T11:24:17.922970Z"
    },
    "code_folding": [
     1
    ]
   },
   "outputs": [],
   "source": [
    "model_dir = '../saved_models/ffnn_2023-08-25T17:47:12.698190'\n",
    "def get_npz_data_from_model(model_dir):\n",
    "    data = np.load(f'{model_dir}/y_val_true_y_val_pred.npz')\n",
    "    y_true = data['y_true']\n",
    "    y_pred = data['y_pred']\n",
    "    return y_true, y_pred\n",
    "\n",
    "def show_conf_mat_from_model(model_dir, ax=None):\n",
    "    y_true, y_pred = get_npz_data_from_model(model_dir)\n",
    "    cm_val = tf.math.confusion_matrix(\n",
    "        y_true.flatten(), \n",
    "        y_pred.flatten()\n",
    "    ).numpy()\n",
    "    cm_val[-1, -1] = 0\n",
    "    return sns.heatmap(\n",
    "        cm_val,\n",
    "        annot=False,\n",
    "        fmt='d',\n",
    "        square=True,\n",
    "        mask=(cm_val==0),\n",
    "        cmap='viridis',\n",
    "        ax=ax,\n",
    "    )\n",
    "\n",
    "\n",
    "\n",
    "show_conf_mat_from_model(model_dir)"
   ]
  },
  {
   "cell_type": "code",
   "execution_count": null,
   "id": "3ef0b179",
   "metadata": {
    "ExecuteTime": {
     "end_time": "2023-08-25T17:22:18.722083Z",
     "start_time": "2023-08-25T17:22:18.680093Z"
    },
    "scrolled": true
   },
   "outputs": [],
   "source": [
    "df.loc[\n",
    "    df['val.macro avg.f1-score'] > 0.9,\n",
    "    dep_vars + [c for c in df.columns if 'avg' in c and 'val' in c]\n",
    "]"
   ]
  },
  {
   "cell_type": "code",
   "execution_count": null,
   "id": "430cd7e1",
   "metadata": {
    "ExecuteTime": {
     "end_time": "2023-08-25T17:26:10.935438Z",
     "start_time": "2023-08-25T17:26:10.838189Z"
    }
   },
   "outputs": [],
   "source": [
    "def f1(p, r):\n",
    "    return 2 * (p*r)/(p+r)\n",
    "\n",
    "f1(0.019608, 0.977864)"
   ]
  },
  {
   "cell_type": "markdown",
   "id": "5c5233e5",
   "metadata": {},
   "source": [
    "# Visualise mis-predictions\n",
    "\n",
    "Question: Why are the FFNNs mis-predicting so many of the gestures?"
   ]
  },
  {
   "cell_type": "code",
   "execution_count": null,
   "id": "fc58bae6",
   "metadata": {
    "ExecuteTime": {
     "end_time": "2023-08-29T12:08:11.022512Z",
     "start_time": "2023-08-29T12:08:09.907664Z"
    }
   },
   "outputs": [],
   "source": [
    "# Load in the dataset/classifier\n",
    "(\n",
    "    X_trn, X_val, y_trn, y_val, dt_trn, dt_val\n",
    ") = common.read_and_split_from_npz(\"../gesture_data/trn_20.npz\")\n",
    "clf = models.load_tf('../saved_models/ffnn_f1=.2341')\n",
    "const = common.read_constants('../src/constants.yaml')\n",
    "sensor_names = list(const['sensors'].values())"
   ]
  },
  {
   "cell_type": "code",
   "execution_count": null,
   "id": "3d780538",
   "metadata": {
    "ExecuteTime": {
     "end_time": "2023-08-29T12:45:04.881270Z",
     "start_time": "2023-08-29T12:45:04.389917Z"
    }
   },
   "outputs": [],
   "source": [
    "df = read.read_data(\n",
    "    \"../gesture_data/train/\",\n",
    "    offsets_path='../offsets.csv',\n",
    "    constants_path=\"../src/constants.yaml\"\n",
    ").sort_values('datetime')\n",
    "X = df[sensor_names].values\n",
    "y = df['gesture'].values\n",
    "dt = df['datetime'].values"
   ]
  },
  {
   "cell_type": "code",
   "execution_count": null,
   "id": "385472b6",
   "metadata": {
    "ExecuteTime": {
     "end_time": "2023-08-29T12:23:11.590927Z",
     "start_time": "2023-08-29T12:23:11.491216Z"
    }
   },
   "outputs": [],
   "source": [
    "true_label = 1\n",
    "pred_label = 50\n",
    "y_pred = clf.predict(X_val)\n",
    "subset_mask = (pred_label == y_pred) & (true_label == y_val)\n",
    "idx = np.nonzero(subset_mask)[0][0]"
   ]
  },
  {
   "cell_type": "code",
   "execution_count": null,
   "id": "7da1aa5f",
   "metadata": {
    "ExecuteTime": {
     "end_time": "2023-08-29T12:25:02.406091Z",
     "start_time": "2023-08-29T12:25:02.294345Z"
    }
   },
   "outputs": [],
   "source": [
    "print(dt_val[idx], y_val[idx], X_val[idx, -1, :])\n",
    "plt.plot(X_val[idx, :, :])\n",
    "plt.show()"
   ]
  },
  {
   "cell_type": "code",
   "execution_count": null,
   "id": "20ca518e",
   "metadata": {
    "ExecuteTime": {
     "end_time": "2023-08-29T12:33:32.989869Z",
     "start_time": "2023-08-29T12:33:32.279503Z"
    }
   },
   "outputs": [],
   "source": [
    "origin = dt_val[idx]\n",
    "delta = pd.Timedelta(1., 'seconds')\n",
    "sub = df.loc[\n",
    "    df['datetime'].between(\n",
    "        origin - delta,\n",
    "        origin + delta,\n",
    "    )\n",
    "]\n",
    "\n",
    "minus_delta_to_origin = np.nonzero(df['datetime'].between(\n",
    "    origin - delta,\n",
    "    origin,\n",
    "))[0].shape[0]\n",
    "\n",
    "cmp_ts(\n",
    "    [sub[sensor_names].values], \n",
    "    span=(max(0, minus_delta_to_origin - 20), minus_delta_to_origin)\n",
    ")"
   ]
  },
  {
   "cell_type": "markdown",
   "id": "910967a1",
   "metadata": {},
   "source": [
    "#### A function to compare time series"
   ]
  },
  {
   "cell_type": "code",
   "execution_count": null,
   "id": "7f5bc8c7",
   "metadata": {
    "ExecuteTime": {
     "end_time": "2023-08-29T19:44:14.751493Z",
     "start_time": "2023-08-29T19:44:14.697145Z"
    },
    "code_folding": [
     0
    ]
   },
   "outputs": [],
   "source": [
    "def cmp_ts(time_series, span=None):\n",
    "    \"\"\"Compare a list of time series datasets.\n",
    "    Each of the time series in `time_series` must have the same shape,\n",
    "    and that shape must be (_, 30).\n",
    "    \"\"\"\n",
    "    assert all(ts.shape == time_series[0].shape for ts in time_series)\n",
    "    assert all(len(ts.shape) == 2 for ts in time_series)\n",
    "    assert all(ts.shape[1] == 30 for ts in time_series)\n",
    "    const = common.read_constants('../src/constants.yaml')\n",
    "    fig, axs = plt.subplots(\n",
    "        5,\n",
    "        6,\n",
    "        figsize=(10, 9)\n",
    "    )\n",
    "    ylim = (\n",
    "        np.array(time_series).min() * 0.9,\n",
    "        np.array(time_series).max() * 1.1\n",
    "    )\n",
    "\n",
    "    for i, ax in enumerate(axs.flatten()):\n",
    "        ax.set(\n",
    "            ylim=ylim,\n",
    "        )\n",
    "        ax.set_title(list(const['sensors'].values())[i], y=1.0, pad=-14)\n",
    "        \n",
    "        if span is not None:\n",
    "            ax.fill_between(\n",
    "                range(*span),\n",
    "                ylim[0],\n",
    "                ylim[1],\n",
    "                alpha=0.1,\n",
    "                color='grey'\n",
    "            )\n",
    "        if i % 6 != 0: ax.set_yticks([])\n",
    "        if i < 24: ax.set_xticks([])\n",
    "\n",
    "        for ts in time_series:\n",
    "            ax.plot(\n",
    "                ts[:, i],\n",
    "                lw=.5,\n",
    "                c='grey',\n",
    "                alpha=.5,\n",
    "            )\n",
    "    plt.subplots_adjust(wspace=0, hspace=0)\n",
    "#     plt.tight_layout()"
   ]
  },
  {
   "cell_type": "markdown",
   "id": "69c11303",
   "metadata": {},
   "source": [
    "# Visualising the data"
   ]
  },
  {
   "cell_type": "markdown",
   "id": "42a60ba0",
   "metadata": {},
   "source": [
    "## Compare processed training data per gesture"
   ]
  },
  {
   "cell_type": "code",
   "execution_count": null,
   "id": "e8bd8126",
   "metadata": {
    "ExecuteTime": {
     "end_time": "2023-08-29T21:41:06.479255Z",
     "start_time": "2023-08-29T21:41:04.297053Z"
    },
    "code_folding": [
     0
    ]
   },
   "outputs": [],
   "source": [
    "delay = 10\n",
    "(\n",
    "    X_trn, X_val, y_trn, y_val, dt_trn, dt_val\n",
    ") = common.read_and_split_from_npz(f\"../gesture_data/trn_20_{delay}.npz\")\n",
    "@interact(gesture_index=(0, 49))\n",
    "def fn(gesture_index=0):\n",
    "    indices = np.nonzero(y_trn == gesture_index)[0]\n",
    "    cmp_ts(X_trn[indices])\n",
    "    plt.suptitle(f'{delay} delay, gesture {gesture_index}')"
   ]
  },
  {
   "cell_type": "markdown",
   "id": "d8ffa540",
   "metadata": {},
   "source": [
    "## Compare raw CSV data per gesture"
   ]
  },
  {
   "cell_type": "code",
   "execution_count": null,
   "id": "87fcf1c9",
   "metadata": {
    "ExecuteTime": {
     "end_time": "2023-08-29T12:58:30.509161Z",
     "start_time": "2023-08-29T12:58:28.589166Z"
    }
   },
   "outputs": [],
   "source": [
    "# NOTE: This only looks at the original data, not the new data for gesture 45..=49\n",
    "df = read.read_data(\n",
    "    \"../gesture_data/train/\",\n",
    "    offsets_path='../offsets.csv',\n",
    "    constants_path=\"../src/constants.yaml\"\n",
    ").sort_values('datetime')\n",
    "X = df[sensor_names].values\n",
    "y = df['gesture'].values\n",
    "dt = df['datetime'].values\n",
    "\n",
    "@interact(gesture_index=(0, 49))\n",
    "def fn(gesture_index=0):\n",
    "    gesture_label = f'gesture{gesture_index:0>4}' if gesture_index != 50 else 'gesture0255'\n",
    "    idxs = np.nonzero(y == gesture_label)[0]\n",
    "    preamble = 30\n",
    "    postamble = 30\n",
    "    X_0 = np.zeros((idxs.shape[0], preamble + 1 + postamble, 30))\n",
    "    for i, idx in enumerate(idxs):\n",
    "        if idx - preamble < 0 or idx + postamble + 1 >= X.shape[0]:\n",
    "            continue\n",
    "        X_0[i] = X[idx-preamble: idx + postamble + 1]\n",
    "\n",
    "    delay = 15\n",
    "    cmp_ts(\n",
    "        X_0,\n",
    "        span=(max(0, preamble - 20) + delay, preamble + delay)\n",
    "    )\n"
   ]
  },
  {
   "cell_type": "code",
   "execution_count": null,
   "id": "131e86a3",
   "metadata": {
    "ExecuteTime": {
     "end_time": "2023-08-29T12:47:26.440407Z",
     "start_time": "2023-08-29T12:47:24.746437Z"
    }
   },
   "outputs": [],
   "source": [
    "idxs = np.nonzero(y == 'gesture0001')[0]\n",
    "preamble = 20\n",
    "postamble = 10\n",
    "X_0 = np.zeros((idxs.shape[0], preamble + 1 + postamble, 30))\n",
    "for i, idx in enumerate(idxs):\n",
    "    if idx - preamble < 0 or idx + postamble + 1 >= X.shape[0]:\n",
    "        continue\n",
    "    X_0[i] = X[idx-preamble: idx + postamble + 1]\n",
    "\n",
    "cmp_ts(\n",
    "    X_0\n",
    ")\n"
   ]
  }
 ],
 "metadata": {
  "kernelspec": {
   "display_name": "ergo-venv",
   "language": "python",
   "name": "ergo-venv"
  },
  "language_info": {
   "codemirror_mode": {
    "name": "ipython",
    "version": 3
   },
   "file_extension": ".py",
   "mimetype": "text/x-python",
   "name": "python",
   "nbconvert_exporter": "python",
   "pygments_lexer": "ipython3",
   "version": "3.10.5"
  },
  "toc": {
   "base_numbering": 1,
   "nav_menu": {},
   "number_sections": true,
   "sideBar": true,
   "skip_h1_title": false,
   "title_cell": "Table of Contents",
   "title_sidebar": "Contents",
   "toc_cell": false,
   "toc_position": {
    "height": "calc(100% - 180px)",
    "left": "10px",
    "top": "150px",
    "width": "302.4px"
   },
   "toc_section_display": true,
   "toc_window_display": true
  },
  "varInspector": {
   "cols": {
    "lenName": 16,
    "lenType": 16,
    "lenVar": 40
   },
   "kernels_config": {
    "python": {
     "delete_cmd_postfix": "",
     "delete_cmd_prefix": "del ",
     "library": "var_list.py",
     "varRefreshCmd": "print(var_dic_list())"
    },
    "r": {
     "delete_cmd_postfix": ") ",
     "delete_cmd_prefix": "rm(",
     "library": "var_list.r",
     "varRefreshCmd": "cat(var_dic_list()) "
    }
   },
   "types_to_exclude": [
    "module",
    "function",
    "builtin_function_or_method",
    "instance",
    "_Feature"
   ],
   "window_display": false
  }
 },
 "nbformat": 4,
 "nbformat_minor": 5
}
