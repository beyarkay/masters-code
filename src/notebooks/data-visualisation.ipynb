{
 "cells": [
  {
   "cell_type": "markdown",
   "id": "d69b0d03",
   "metadata": {},
   "source": [
    "# Data Visualisation"
   ]
  },
  {
   "cell_type": "code",
   "execution_count": null,
   "id": "973368b2",
   "metadata": {
    "ExecuteTime": {
     "end_time": "2023-08-21T11:45:17.306018Z",
     "start_time": "2023-08-21T11:45:17.299055Z"
    },
    "code_folding": [
     0
    ]
   },
   "outputs": [],
   "source": [
    "# Change directory to keep paths consistent\n",
    "%cd /Users/brk/projects/masters/SU/ergo/src"
   ]
  },
  {
   "cell_type": "code",
   "execution_count": null,
   "id": "84c8cca3",
   "metadata": {
    "ExecuteTime": {
     "end_time": "2023-08-21T11:45:20.729877Z",
     "start_time": "2023-08-21T11:45:17.505794Z"
    },
    "code_folding": [
     0
    ]
   },
   "outputs": [],
   "source": [
    "# Imports and setup\n",
    "%load_ext autoreload\n",
    "%autoreload 2\n",
    "import seaborn as sns\n",
    "import seaborn.objects as so\n",
    "import matplotlib.pyplot as plt\n",
    "import ipywidgets as widgets\n",
    "import datetime\n",
    "from ipywidgets import interact, interactive, fixed, interact_manual\n",
    "import pandas as pd\n",
    "import numpy as np\n",
    "import models\n",
    "import vis\n",
    "import common\n",
    "import read\n",
    "import tensorflow as tf\n",
    "from tensorflow import keras\n",
    "from keras import layers\n",
    "from sklearn.model_selection import train_test_split\n",
    "import sklearn\n",
    "import tqdm\n",
    "import logging as l\n",
    "import tqdm\n",
    "import yaml\n",
    "import glob\n",
    "from matplotlib.colors import LogNorm\n",
    "import re\n",
    "from sklearn.metrics import classification_report"
   ]
  },
  {
   "cell_type": "code",
   "execution_count": null,
   "id": "736d1411",
   "metadata": {
    "ExecuteTime": {
     "end_time": "2023-08-21T11:45:20.986617Z",
     "start_time": "2023-08-21T11:45:20.959708Z"
    },
    "code_folding": [
     0
    ]
   },
   "outputs": [],
   "source": [
    "# Utility functions\n",
    "def heatmap(fn, X_val, y_val, axis=1):\n",
    "    y_val_pred = np.argmax(tf.nn.softmax(fn(X_val)).numpy(), axis=axis)\n",
    "\n",
    "    cm_val = tf.math.confusion_matrix(\n",
    "        y_val.flatten(), \n",
    "        y_val_pred.flatten()\n",
    "    ).numpy()\n",
    "    cm_val[-1, -1] = 0\n",
    "    return sns.heatmap(\n",
    "        cm_val,\n",
    "        annot=False,\n",
    "        fmt='d',\n",
    "        square=True,\n",
    "        mask=(cm_val==0),\n",
    "        cmap='viridis'\n",
    "    )\n",
    "\n",
    "def prettify_col_name(x):\n",
    "    return x.split('.')[-1].replace('_', ' ').title()"
   ]
  },
  {
   "cell_type": "markdown",
   "id": "12c27602",
   "metadata": {},
   "source": [
    "## Load data"
   ]
  },
  {
   "cell_type": "code",
   "execution_count": null,
   "id": "984662f6",
   "metadata": {
    "ExecuteTime": {
     "end_time": "2023-08-21T11:45:23.790074Z",
     "start_time": "2023-08-21T11:45:23.618267Z"
    },
    "code_folding": []
   },
   "outputs": [],
   "source": [
    "# Read in data from hpar optimisation\n",
    "df_ffnn = pd.read_json(\n",
    "    '../saved_models/results_ffnn_opt_bigger.jsonl',\n",
    "    lines=True\n",
    ")\n",
    "df_cusum = pd.read_json(\n",
    "    '../saved_models/results_cusum_opt_bigger.jsonl',\n",
    "    lines=True\n",
    ")\n",
    "df_hmm = pd.read_json(\n",
    "    '../saved_models/results_hmm_opt_bigger.jsonl',\n",
    "    lines=True\n",
    ")\n",
    "# Concat the dataframes together, and then do a \n",
    "# copy to avoid a dataframe fragmentation warning\n",
    "# Reset the index to avoid a seaborn error https://github.com/mwaskom/seaborn/issues/3291\n",
    "df = pd.concat((df_ffnn, df_cusum, df_hmm)).reset_index(drop=True).copy()"
   ]
  },
  {
   "cell_type": "code",
   "execution_count": null,
   "id": "6eebf22f",
   "metadata": {
    "ExecuteTime": {
     "end_time": "2023-08-21T11:46:44.734292Z",
     "start_time": "2023-08-21T11:46:44.703679Z"
    },
    "code_folding": []
   },
   "outputs": [],
   "source": [
    "# Preprocess the data a little bit, and get a list of dependant variables\n",
    "# Preprocess the df a bit to get some nice-to-use columns\n",
    "df['ffnn.nodes_per_layer.1'] = df['ffnn.nodes_per_layer'].apply(\n",
    "    lambda x: x[0] if isinstance(x, list) else x\n",
    ")\n",
    "df['ffnn.nodes_per_layer.2'] = df['ffnn.nodes_per_layer'].apply(\n",
    "    lambda x: x[1] if isinstance(x, list) else x\n",
    ")\n",
    "\n",
    "df['ratio.macro avg.f1-score'] = df['trn.macro avg.f1-score'] / df['val.macro avg.f1-score']\n",
    "\n",
    "# Print out a list of dependant variables\n",
    "dep_vars = sorted([\n",
    "    c for c in df.columns \n",
    "    if 'val' not in c and 'trn' not in c and 'ratio' not in c and c not in (\n",
    "        'saved_at', 'fit_time', 'preprocessing.gesture_allowlist', \n",
    ")], key=lambda c: str(c))\n",
    "print(f\"Dependant variables: {dep_vars}\")\n",
    "print(\"\\nVariables which change:\")\n",
    "max_len = max(map(lambda x: len(x), dep_vars))\n",
    "# Print out all dependant variables that change\n",
    "for var in dep_vars:\n",
    "    uniq = df[var].apply(lambda x: str(x) if isinstance(x, list) else x).unique()\n",
    "    if len(uniq) > 1:\n",
    "        print(f\"{var: <{max_len}} {uniq}\")"
   ]
  },
  {
   "cell_type": "markdown",
   "id": "47d432f4",
   "metadata": {},
   "source": [
    "# Plot the data"
   ]
  },
  {
   "cell_type": "markdown",
   "id": "538e5629",
   "metadata": {},
   "source": [
    "## FFNN vs HMM vs CuSUM"
   ]
  },
  {
   "cell_type": "code",
   "execution_count": null,
   "id": "81792ba6",
   "metadata": {
    "ExecuteTime": {
     "end_time": "2023-08-21T11:46:55.429865Z",
     "start_time": "2023-08-21T11:46:55.166295Z"
    },
    "scrolled": false
   },
   "outputs": [],
   "source": [
    "subset = df\n",
    "(\n",
    "    so.Plot(subset, x='model_type', y='val.macro avg.f1-score', color='model_type')\n",
    "    .layout(size=(8, 6))\n",
    "    .add(so.Dots(pointsize=3), so.Jitter())\n",
    "    .facet(row='preprocessing.num_gesture_classes')\n",
    "    .label(\n",
    "        x=\"Model Type\", \n",
    "        color='Model Type',\n",
    "        y=\"Macro Average\\n$F_1$ Score\",\n",
    "        title=\"{} Gesture Classes\".format,\n",
    "    )\n",
    ")"
   ]
  },
  {
   "cell_type": "markdown",
   "id": "0218861d",
   "metadata": {},
   "source": [
    "## CuSUM Hyperparameter Comparison"
   ]
  },
  {
   "cell_type": "code",
   "execution_count": null,
   "id": "95e109a7",
   "metadata": {
    "ExecuteTime": {
     "end_time": "2023-08-21T11:53:27.723904Z",
     "start_time": "2023-08-21T11:53:27.351574Z"
    }
   },
   "outputs": [],
   "source": [
    "subset = df[df.model_type=='CuSUM']\n",
    "(\n",
    "    so.Plot(subset, x='cusum.thresh', y='val.macro avg.f1-score')\n",
    "    .layout(size=(8, 6))\n",
    "    .add(so.Dots(pointsize=3), so.Jitter())\n",
    "    .facet(row='preprocessing.num_gesture_classes')\n",
    "    .limit(y=(-.1, 1.1))\n",
    "    .label(\n",
    "        x=\"CuSUM Threshold\", \n",
    "#         color='Model Type',\n",
    "        y=\"Macro Average\\n$F_1$ Score\",\n",
    "        title=\"CuSUM models\\n({} Gesture Classes)\".format,\n",
    "    )\n",
    ")"
   ]
  },
  {
   "cell_type": "markdown",
   "id": "550d14b3",
   "metadata": {},
   "source": [
    "## HMM Comparison"
   ]
  },
  {
   "cell_type": "code",
   "execution_count": null,
   "id": "b9b10208",
   "metadata": {
    "ExecuteTime": {
     "end_time": "2023-08-21T11:53:29.539280Z",
     "start_time": "2023-08-21T11:53:29.357304Z"
    }
   },
   "outputs": [],
   "source": [
    "subset = df[df.model_type=='HMM']\n",
    "(\n",
    "    so.Plot(subset, x='preprocessing.num_gesture_classes', y='val.macro avg.f1-score')\n",
    "#     .layout(size=(8, 6))\n",
    "    .add(so.Dots(pointsize=3), so.Jitter())\n",
    "    .limit(y=(-.1, 1.1))\n",
    "    .label(\n",
    "        x=\"Number of Gesture Classes\", \n",
    "        y=\"Macro Average\\n$F_1$ Score\",\n",
    "        title=\"HMM models\",\n",
    "    )\n",
    ")"
   ]
  },
  {
   "cell_type": "markdown",
   "id": "0759600a",
   "metadata": {},
   "source": [
    "## FFNN Hyperparameter Comparison"
   ]
  },
  {
   "cell_type": "code",
   "execution_count": null,
   "id": "f080607a",
   "metadata": {
    "ExecuteTime": {
     "end_time": "2023-08-21T11:53:33.714412Z",
     "start_time": "2023-08-21T11:53:31.259609Z"
    },
    "code_folding": [],
    "scrolled": false
   },
   "outputs": [],
   "source": [
    "changing_ffnn_vars = [\n",
    "    'ffnn.dropout_rate',\n",
    "    'nn.learning_rate',\n",
    "    'ffnn.l2_coefficient',\n",
    "    'ffnn.nodes_per_layer.1',\n",
    "    'ffnn.nodes_per_layer.2',\n",
    "]\n",
    "\n",
    "for var_of_interest in changing_ffnn_vars:\n",
    "    subset = df[df.model_type=='FFNN'].assign(**{\n",
    "        # Convertnum_gesture_classes to a str so it is treated categorically\n",
    "        'preprocessing.num_gesture_classes': lambda df: df['preprocessing.num_gesture_classes'].apply(str),\n",
    "#         var_of_interest: lambda df: df[var_of_interest].apply(lambda x: np.round(x, 6)),\n",
    "    })\n",
    "    (\n",
    "        so.Plot(subset, x='preprocessing.num_gesture_classes')\n",
    "        .add(so.Dots(pointsize=3), so.Jitter())\n",
    "        .pair(y=['val.macro avg.f1-score', 'val.macro avg.recall', 'val.macro avg.precision'])\n",
    "        .facet(col=var_of_interest)\n",
    "        .limit(y=(-.1, 1.1))\n",
    "        .label(\n",
    "            title=lambda s: var_of_interest + ': \\n{}'.format(s),\n",
    "            x=\"#Gesture Classes\",\n",
    "            y0=\"Macro Average\\n$F_1$ Score\",\n",
    "            y1=\"Macro Average\\nRecall\",\n",
    "            y2=\"Macro Average\\nPrecision\",\n",
    "        )\n",
    "        .show()\n",
    "    )"
   ]
  },
  {
   "cell_type": "code",
   "execution_count": null,
   "id": "79608d5c",
   "metadata": {},
   "outputs": [],
   "source": []
  }
 ],
 "metadata": {
  "kernelspec": {
   "display_name": "ergo-venv",
   "language": "python",
   "name": "ergo-venv"
  },
  "language_info": {
   "codemirror_mode": {
    "name": "ipython",
    "version": 3
   },
   "file_extension": ".py",
   "mimetype": "text/x-python",
   "name": "python",
   "nbconvert_exporter": "python",
   "pygments_lexer": "ipython3",
   "version": "3.10.5"
  },
  "varInspector": {
   "cols": {
    "lenName": 16,
    "lenType": 16,
    "lenVar": 40
   },
   "kernels_config": {
    "python": {
     "delete_cmd_postfix": "",
     "delete_cmd_prefix": "del ",
     "library": "var_list.py",
     "varRefreshCmd": "print(var_dic_list())"
    },
    "r": {
     "delete_cmd_postfix": ") ",
     "delete_cmd_prefix": "rm(",
     "library": "var_list.r",
     "varRefreshCmd": "cat(var_dic_list()) "
    }
   },
   "types_to_exclude": [
    "module",
    "function",
    "builtin_function_or_method",
    "instance",
    "_Feature"
   ],
   "window_display": false
  }
 },
 "nbformat": 4,
 "nbformat_minor": 5
}
