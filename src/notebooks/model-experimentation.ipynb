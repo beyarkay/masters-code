{
 "cells": [
  {
   "cell_type": "markdown",
   "id": "19626de0",
   "metadata": {},
   "source": [
    "# Model Experimentation"
   ]
  },
  {
   "cell_type": "code",
   "execution_count": 1,
   "id": "bbbc7f4b",
   "metadata": {
    "ExecuteTime": {
     "end_time": "2023-09-22T14:24:08.092103Z",
     "start_time": "2023-09-22T14:24:08.068277Z"
    }
   },
   "outputs": [
    {
     "name": "stdout",
     "output_type": "stream",
     "text": [
      "/Users/brk/projects/masters/SU/ergo/src\n"
     ]
    }
   ],
   "source": [
    "# Change directory to keep paths consistent\n",
    "%cd /Users/brk/projects/masters/SU/ergo/src"
   ]
  },
  {
   "cell_type": "code",
   "execution_count": 2,
   "id": "bb58cb17",
   "metadata": {
    "ExecuteTime": {
     "end_time": "2023-09-22T14:24:12.581807Z",
     "start_time": "2023-09-22T14:24:08.184293Z"
    },
    "code_folding": [
     0
    ]
   },
   "outputs": [],
   "source": [
    "# minimise me\n",
    "%load_ext autoreload\n",
    "%autoreload 2\n",
    "import seaborn as sns\n",
    "import seaborn.objects as so\n",
    "import matplotlib.pyplot as plt\n",
    "import ipywidgets as widgets\n",
    "import datetime\n",
    "from ipywidgets import interact, interactive, fixed, interact_manual\n",
    "import pandas as pd\n",
    "import numpy as np\n",
    "import models\n",
    "import vis\n",
    "import common\n",
    "import read\n",
    "import tensorflow as tf\n",
    "from tensorflow import keras\n",
    "from keras import layers\n",
    "from sklearn.model_selection import train_test_split\n",
    "import sklearn\n",
    "import tqdm\n",
    "import logging as l\n",
    "import tqdm\n",
    "import yaml\n",
    "import glob\n",
    "from matplotlib.colors import LogNorm\n",
    "import re\n",
    "from sklearn.metrics import classification_report"
   ]
  },
  {
   "cell_type": "markdown",
   "id": "772e8b2c",
   "metadata": {},
   "source": [
    "## Read in the training data"
   ]
  },
  {
   "cell_type": "code",
   "execution_count": 3,
   "id": "818a4edf",
   "metadata": {
    "ExecuteTime": {
     "end_time": "2023-09-22T14:24:13.672112Z",
     "start_time": "2023-09-22T14:24:12.608810Z"
    }
   },
   "outputs": [],
   "source": [
    "(\n",
    "    X_trn, X_val, y_trn, y_val, dt_trn, dt_val\n",
    ") = common.read_and_split_from_npz(\"../gesture_data/trn_20_10.npz\")"
   ]
  },
  {
   "cell_type": "markdown",
   "id": "cebe8167",
   "metadata": {},
   "source": [
    "## Regular FFNN model"
   ]
  },
  {
   "cell_type": "code",
   "execution_count": null,
   "id": "9ac99a04",
   "metadata": {
    "ExecuteTime": {
     "end_time": "2023-09-19T15:44:10.290284Z",
     "start_time": "2023-09-19T15:41:01.384380Z"
    },
    "scrolled": true
   },
   "outputs": [],
   "source": [
    "keras.backend.clear_session()\n",
    "num_layers = 1\n",
    "nodes_per_layer = [187]\n",
    "model_type = \"FFNN\"\n",
    "num_gesture_classes = 51\n",
    "preprocessing: models.PreprocessingConfig = {\n",
    "    'seed': 42 + 0,\n",
    "    'n_timesteps': 20,\n",
    "    'max_obs_per_class': 200 if model_type == \"HMM\" else None,\n",
    "    'gesture_allowlist': list(range(num_gesture_classes)),\n",
    "    'num_gesture_classes': num_gesture_classes,\n",
    "    'rep_num': 0\n",
    "}\n",
    "\n",
    "\n",
    "config: models.ConfigDict = {\n",
    "    \"model_type\": \"FFNN\",\n",
    "    \"preprocessing\": preprocessing,\n",
    "    \"nn\": {\n",
    "        \"epochs\": 30,\n",
    "        \"batch_size\": 243,\n",
    "        \"learning_rate\": 0.00028699308114633,\n",
    "        \"optimizer\": \"adam\",\n",
    "    },\n",
    "    \"ffnn\": {\n",
    "        \"nodes_per_layer\": nodes_per_layer,\n",
    "        \"l2_coefficient\": 4.339192561757433e-05,\n",
    "        \"dropout_rate\": 0.09057350661309399,\n",
    "    },\n",
    "    \"cusum\": None,\n",
    "    \"lstm\": None,\n",
    "    \"hmm\": None,\n",
    "}\n",
    "# pprint(config)\n",
    "clf = models.FFNNClassifier(config=config)\n",
    "print(\"Fitting model\")\n",
    "start = datetime.datetime.now()\n",
    "                                                                                       \n",
    "clf.fit(\n",
    "    X_trn,\n",
    "    y_trn,\n",
    "    dt_trn,\n",
    "    validation_data=(X_val, y_val, dt_val),\n",
    "    verbose=True,\n",
    "    callbacks=[\n",
    "        models.DisplayConfMat(\n",
    "            validation_data=(X_val, y_val, dt_val),\n",
    "            conf_mat=False,\n",
    "#             fig_path=f'saved_models/{study_name}/trial_{trial.number}.png',\n",
    "        ),\n",
    "    ]\n",
    ")\n",
    "finsh = datetime.datetime.now()\n",
    "# score = calc_metrics(trial, start, finsh, clf)\n"
   ]
  },
  {
   "cell_type": "markdown",
   "id": "80f134af",
   "metadata": {},
   "source": [
    "### Calculate metrics for the FFNN model"
   ]
  },
  {
   "cell_type": "code",
   "execution_count": null,
   "id": "5112d71c",
   "metadata": {
    "ExecuteTime": {
     "end_time": "2023-09-19T15:44:20.938586Z",
     "start_time": "2023-09-19T15:44:10.621408Z"
    },
    "scrolled": true
   },
   "outputs": [],
   "source": [
    "model_type = clf.config['model_type']\n",
    "X_val = clf.validation_data[0]\n",
    "y_val = clf.validation_data[1]\n",
    "duration = finsh - start\n",
    "duration_ms = duration.seconds * 1000 + duration.microseconds / 1000\n",
    "print(\"duration_ms\", duration_ms)\n",
    "                                                                         \n",
    "if model_type == \"FFNN\":\n",
    "    print(\"val_loss\", clf.history.history[\"val_loss\"][-1])\n",
    "    print(\"trn_loss\", clf.history.history[\"loss\"][-1])\n",
    "                                                                         \n",
    "jsonl_path = f\"../saved_models/results_{model_type.lower()}_optuna.jsonl\"\n",
    "model_dir = clf.write_as_jsonl(jsonl_path)\n",
    "if model_type == \"FFNN\":\n",
    "    print(model_dir)\n",
    "    clf.dump(model_dir)\n",
    "                                                                         \n",
    "print(\"model_dir\", model_dir)\n",
    "                                                                         \n",
    "y_pred = clf.predict(X_val)\n",
    "clf_report = pd.json_normalize(sklearn.metrics.classification_report(\n",
    "    y_val.astype(int),\n",
    "    y_pred.astype(int),\n",
    "    output_dict=True,\n",
    "    zero_division=0,\n",
    "))\n",
    "print(sklearn.metrics.classification_report(\n",
    "    y_val.astype(int),\n",
    "    y_pred.astype(int),\n",
    "    output_dict=False,\n",
    "    zero_division=0,\n",
    "))\n",
    "                                                                         \n",
    "print(\"val.macro avg.f1-score\", clf_report['macro avg.f1-score'].values[0])\n",
    "print(\"val.macro avg.precision\", clf_report['macro avg.precision'].values[0])\n",
    "print(\"val.macro avg.recall\", clf_report['macro avg.recall'].values[0])\n",
    "print (clf_report['macro avg.f1-score'].values[0])\n"
   ]
  },
  {
   "cell_type": "markdown",
   "id": "ba5892d9",
   "metadata": {},
   "source": [
    "## Experiment with a two-stage FFNN model"
   ]
  },
  {
   "cell_type": "code",
   "execution_count": null,
   "id": "1bf38744",
   "metadata": {
    "ExecuteTime": {
     "end_time": "2023-09-19T14:45:24.542502Z",
     "start_time": "2023-09-19T14:43:50.552278Z"
    },
    "scrolled": true
   },
   "outputs": [],
   "source": [
    "majority_config: models.ConfigDict = {\n",
    "    \"model_type\": \"FFNN\",\n",
    "    \"preprocessing\": {\n",
    "        'seed': 42 + 0,\n",
    "        'n_timesteps': 20,\n",
    "        'max_obs_per_class': None,\n",
    "        'gesture_allowlist': [0, 1],\n",
    "        'num_gesture_classes': 2,\n",
    "        'rep_num': 0\n",
    "    },\n",
    "    \"nn\": {\n",
    "        \"epochs\": 15,\n",
    "        \"batch_size\": 256,\n",
    "        \"learning_rate\": 0.0005,\n",
    "        \"optimizer\": \"adam\",\n",
    "    },\n",
    "    \"ffnn\": {\n",
    "        \"nodes_per_layer\": [100, 100],\n",
    "        \"l2_coefficient\": 4.3e-05,\n",
    "        \"dropout_rate\": 0.09,\n",
    "    },\n",
    "    \"cusum\": None,\n",
    "    \"lstm\": None,\n",
    "    \"hmm\": None,\n",
    "}\n",
    "\n",
    "minority_config: models.ConfigDict = {\n",
    "    \"model_type\": \"FFNN\",\n",
    "    \"preprocessing\": {\n",
    "        'seed': 42 + 0,\n",
    "        'n_timesteps': 20,\n",
    "        'max_obs_per_class': None,\n",
    "        'gesture_allowlist': list(range(50)),\n",
    "        'num_gesture_classes': 50,\n",
    "        'rep_num': 0\n",
    "    },\n",
    "    \"nn\": {\n",
    "        \"epochs\": 30,\n",
    "        \"batch_size\": 256,\n",
    "        \"learning_rate\": 0.0005,\n",
    "        \"optimizer\": \"adam\",\n",
    "    },\n",
    "    \"ffnn\": {\n",
    "        \"nodes_per_layer\": [100, 100],\n",
    "        \"l2_coefficient\": 4.3e-05,\n",
    "        \"dropout_rate\": 0.09,\n",
    "    },\n",
    "    \"cusum\": None,\n",
    "    \"lstm\": None,\n",
    "    \"hmm\": None,\n",
    "}\n",
    "\n",
    "meta_clf = models.MetaClassifier(\n",
    "    majority_config=majority_config,\n",
    "    minority_config=minority_config,\n",
    ")\n",
    "meta_clf.fit(\n",
    "    X_trn,\n",
    "    y_trn,\n",
    "    dt_trn,\n",
    "    validation_data=(X_val, y_val, dt_val),\n",
    "    verbose=True,\n",
    "    callbacks=[\n",
    "        models.DisplayConfMat(\n",
    "            validation_data=(X_val, y_val, dt_val),\n",
    "        ),\n",
    "    ]\n",
    ")"
   ]
  },
  {
   "cell_type": "markdown",
   "id": "d9612988",
   "metadata": {},
   "source": [
    "### Calculate metrics for the two-stage FFNN model"
   ]
  },
  {
   "cell_type": "code",
   "execution_count": null,
   "id": "ed4147c4",
   "metadata": {
    "ExecuteTime": {
     "end_time": "2023-09-19T14:45:25.014098Z",
     "start_time": "2023-09-19T14:45:24.669308Z"
    },
    "scrolled": true
   },
   "outputs": [],
   "source": [
    "y_pred = meta_clf.predict(X_val)\n",
    "\n",
    "conf_mat = tf.math.confusion_matrix(y_val, y_pred).numpy()\n",
    "print(conf_mat)\n",
    "vis.conf_mat(conf_mat);\n",
    "plt.show()\n",
    "print(sklearn.metrics.classification_report(\n",
    "    y_val.astype(int),\n",
    "    y_pred.astype(int),\n",
    "    zero_division=0,\n",
    "))\n"
   ]
  },
  {
   "cell_type": "markdown",
   "id": "020f00a4",
   "metadata": {},
   "source": [
    "## Plot the PCA of the data, along with model predictions"
   ]
  },
  {
   "cell_type": "code",
   "execution_count": null,
   "id": "b5f154d1",
   "metadata": {
    "ExecuteTime": {
     "end_time": "2023-09-19T14:50:13.108163Z",
     "start_time": "2023-09-19T14:50:12.255178Z"
    }
   },
   "outputs": [],
   "source": [
    "from sklearn.decomposition import PCA\n",
    "\n",
    "pca = PCA(n_components=2)\n",
    "X_reshaped = X_val.reshape((X_val.shape[0], -1))\n",
    "X_tfrm = pca.fit_transform(X_reshaped[y_val != 50])\n",
    "\n",
    "argsort = np.argsort(y_val[y_val != 50])\n",
    "\n",
    "hues = np.array([ \"0°\", \"45°\", \"90°\", \"135°\", \"180°\" ])\n",
    "styles = np.array([ \"L1\", \"L2\", \"L3\", \"L4\", \"L5\", \"R5\", \"R4\", \"R3\", \"R2\", \"R1\" ])\n",
    "\n",
    "fig, ax = plt.subplots(1, 1, figsize=(10, 10), dpi=300)\n",
    "\n",
    "sns.scatterplot(\n",
    "    x=X_tfrm[:, 0][argsort][(y_val != y_pred)[y_val != 50]],\n",
    "    y=X_tfrm[:, 1][argsort][(y_val != y_pred)[y_val != 50]],\n",
    "    s=60,\n",
    "    ax=ax,\n",
    "    alpha=.25,\n",
    "    edgecolor='red',\n",
    "    color='red',\n",
    "    linewidth=.1,\n",
    ")\n",
    "\n",
    "sns.scatterplot(\n",
    "    x=X_tfrm[:, 0][argsort],\n",
    "    y=X_tfrm[:, 1][argsort],\n",
    "    hue=hues[(y_val[y_val != 50][argsort] // 10)],\n",
    "    style=styles[(y_val[y_val != 50][argsort] % 10)],\n",
    "    s=30,\n",
    "    ax=ax\n",
    ")\n",
    "\n",
    "plt.title(\"PCA plot of the validation data\\nExcluding gesture 50\\nIncorrect predictions circled\")\n",
    "# TODO maybe have an overlay of the datapoints that the model gets wrong?"
   ]
  },
  {
   "cell_type": "markdown",
   "id": "1cd0d379",
   "metadata": {},
   "source": [
    "## Experiment with SVM (22 minute training time)"
   ]
  },
  {
   "cell_type": "code",
   "execution_count": null,
   "id": "aa1063ab",
   "metadata": {
    "ExecuteTime": {
     "end_time": "2023-09-21T11:53:44.556940Z",
     "start_time": "2023-09-21T11:49:32.703038Z"
    },
    "scrolled": true
   },
   "outputs": [],
   "source": [
    "clf = models.SVMClassifier(config={\n",
    "    \"model_type\": \"SVM\",\n",
    "    \"preprocessing\": {\n",
    "        'seed': 42 + 0,\n",
    "        'n_timesteps': 20,\n",
    "        'max_obs_per_class': None,\n",
    "        'gesture_allowlist': list(range(51)),\n",
    "        'num_gesture_classes': 51,\n",
    "        'rep_num': 0\n",
    "    },\n",
    "    \"svm\": {\n",
    "        \"c\": 1.0,\n",
    "        \"class_weight\": None,\n",
    "        \"max_iter\": 40,\n",
    "    },\n",
    "    \"nn\": None,\n",
    "    \"ffnn\": None,\n",
    "    \"cusum\": None,\n",
    "    \"lstm\": None,\n",
    "    \"hmm\": None,\n",
    "})\n",
    "\n",
    "clf.fit(\n",
    "    X_trn,\n",
    "    y_trn,\n",
    "    dt_trn,\n",
    "    validation_data=(X_val, y_val, dt_val),\n",
    "    verbose=True,\n",
    ")"
   ]
  },
  {
   "cell_type": "markdown",
   "id": "ca4e3b1f",
   "metadata": {},
   "source": [
    "### Calculate metrics for the SVM model"
   ]
  },
  {
   "cell_type": "code",
   "execution_count": null,
   "id": "dd8bd10a",
   "metadata": {
    "ExecuteTime": {
     "end_time": "2023-09-21T11:53:44.905614Z",
     "start_time": "2023-09-21T11:53:44.601302Z"
    },
    "scrolled": true
   },
   "outputs": [],
   "source": [
    "y_pred = clf.predict(X_val)\n",
    "\n",
    "conf_mat = tf.math.confusion_matrix(y_val, y_pred).numpy()\n",
    "print(conf_mat)\n",
    "conf_mat[-1,-1] = 0\n",
    "vis.conf_mat(conf_mat, norm=None);\n",
    "plt.show()\n",
    "print(sklearn.metrics.classification_report(\n",
    "    y_val.astype(int),\n",
    "    y_pred.astype(int),\n",
    "    zero_division=0,\n",
    "))"
   ]
  }
 ],
 "metadata": {
  "kernelspec": {
   "display_name": "ergo-venv",
   "language": "python",
   "name": "ergo-venv"
  },
  "language_info": {
   "codemirror_mode": {
    "name": "ipython",
    "version": 3
   },
   "file_extension": ".py",
   "mimetype": "text/x-python",
   "name": "python",
   "nbconvert_exporter": "python",
   "pygments_lexer": "ipython3",
   "version": "3.10.5"
  },
  "toc": {
   "base_numbering": 1,
   "nav_menu": {},
   "number_sections": true,
   "sideBar": true,
   "skip_h1_title": false,
   "title_cell": "Table of Contents",
   "title_sidebar": "Contents",
   "toc_cell": false,
   "toc_position": {},
   "toc_section_display": true,
   "toc_window_display": true
  },
  "varInspector": {
   "cols": {
    "lenName": 16,
    "lenType": 16,
    "lenVar": 40
   },
   "kernels_config": {
    "python": {
     "delete_cmd_postfix": "",
     "delete_cmd_prefix": "del ",
     "library": "var_list.py",
     "varRefreshCmd": "print(var_dic_list())"
    },
    "r": {
     "delete_cmd_postfix": ") ",
     "delete_cmd_prefix": "rm(",
     "library": "var_list.r",
     "varRefreshCmd": "cat(var_dic_list()) "
    }
   },
   "types_to_exclude": [
    "module",
    "function",
    "builtin_function_or_method",
    "instance",
    "_Feature"
   ],
   "window_display": false
  }
 },
 "nbformat": 4,
 "nbformat_minor": 5
}
