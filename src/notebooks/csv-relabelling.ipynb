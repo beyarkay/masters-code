{
 "cells": [
  {
   "cell_type": "markdown",
   "id": "d3fcd054",
   "metadata": {},
   "source": [
    "# Relabel a CSV file\n",
    "\n",
    "This notebook is used to relabel a CSV file of gestures. When gesture data gets recorded, labels are automatically added at regular intervals, but the actual timing of when the user's hands move might not align perfectly with those automatically added labels. This notebook can be run and will visualise the data in the CSV file along with the labels. The CSV file can then be edited externally and reloaded in this notebook. In this way, the labels can (slowly) be moved around until they align with the gestures."
   ]
  },
  {
   "cell_type": "code",
   "execution_count": null,
   "id": "d6a68019",
   "metadata": {
    "ExecuteTime": {
     "end_time": "2023-08-22T09:11:09.182876Z",
     "start_time": "2023-08-22T09:11:09.171040Z"
    }
   },
   "outputs": [],
   "source": [
    "# Change directory to keep paths consistent\n",
    "%cd /Users/brk/projects/masters/SU/ergo/src"
   ]
  },
  {
   "cell_type": "code",
   "execution_count": null,
   "id": "01ce119c",
   "metadata": {
    "ExecuteTime": {
     "end_time": "2023-08-22T10:24:42.987035Z",
     "start_time": "2023-08-22T10:24:42.833705Z"
    }
   },
   "outputs": [],
   "source": [
    "# Imports and setup\n",
    "%load_ext autoreload\n",
    "%autoreload 2\n",
    "import seaborn as sns\n",
    "import matplotlib.pyplot as plt\n",
    "from ipywidgets import interact, widgets\n",
    "import pandas as pd\n",
    "import numpy as np\n",
    "import models\n",
    "import vis\n",
    "import common\n",
    "import read\n",
    "import tensorflow as tf\n",
    "from tensorflow import keras\n",
    "from keras import layers\n",
    "import sklearn\n",
    "from sklearn.model_selection import train_test_split\n",
    "from sklearn.metrics import classification_report\n",
    "import tqdm\n",
    "import yaml\n",
    "import glob\n",
    "import re"
   ]
  },
  {
   "cell_type": "markdown",
   "id": "372a4c3b",
   "metadata": {},
   "source": [
    "# Visualise a CSV file of data"
   ]
  },
  {
   "cell_type": "code",
   "execution_count": null,
   "id": "a7742139",
   "metadata": {
    "ExecuteTime": {
     "end_time": "2023-08-22T09:41:55.374032Z",
     "start_time": "2023-08-22T09:41:55.195990Z"
    }
   },
   "outputs": [],
   "source": [
    "filename = \"../gesture_data/new_data/2023-08-20T13:35:37.csv\"\n",
    "const: common.ConstantsDict = common.read_constants('../src/constants.yaml')\n",
    "names = ['datetime', 'gesture'] + list(const[\"sensors\"].values())"
   ]
  },
  {
   "cell_type": "code",
   "execution_count": null,
   "id": "2e22be05",
   "metadata": {
    "ExecuteTime": {
     "end_time": "2023-08-24T09:17:03.764071Z",
     "start_time": "2023-08-24T09:17:03.432265Z"
    }
   },
   "outputs": [],
   "source": [
    "\n",
    "@interact(start=(0, 14185, 20))\n",
    "def fn(start=0):\n",
    "    duration = 120\n",
    "    t0 = start\n",
    "    t1 = start + duration\n",
    "    df = pd.read_csv(filename, header=None, names=names)\n",
    "    values = df.loc[t0:t1, names[2:]].values\n",
    "    labels = df.loc[t0:t1, 'gesture'].values\n",
    "    datetimes = df.loc[t0:t1, 'datetime'].values\n",
    "    ylim = values.min()*0.9, values.max()*1.1\n",
    "    mid = (ylim[1] - ylim[0]) * 0.5\n",
    "    # NOTE: this only visualises the right hand\n",
    "    fig, axs = plt.subplots(5, 1, figsize=(10, 10))\n",
    "    for i, ax in enumerate(axs, 5):\n",
    "        ax.plot(values[:, i*3+0], c='tab:red')\n",
    "        ax.plot(values[:, i*3+1], c='tab:green')\n",
    "        ax.plot(values[:, i*3+2], c='tab:blue')\n",
    "\n",
    "        ax.scatter(range(values.shape[0]), values[:, i*3+0], c='tab:red', s=3)\n",
    "        ax.scatter(range(values.shape[0]), values[:, i*3+1], c='tab:green', s=3)\n",
    "        ax.scatter(range(values.shape[0]), values[:, i*3+2], c='tab:blue', s=3)\n",
    "        for x, label in filter(lambda l: l[1] != 'gesture0255', enumerate(labels)):\n",
    "            ax.text(x, ylim[1], label.replace('gesture00', 'g'), rotation=90, va='top')\n",
    "        ax.set(\n",
    "            yticks=[],\n",
    "            xticks=[],\n",
    "            ylim=ylim,\n",
    "            ylabel=f'{i}: ' + \",\".join(names[2:][i*3:i*3+3]),\n",
    "        )\n",
    "        if i in (4, 9):\n",
    "            xticklabels = [(None if labels[i] == 'gesture0255' else dt[11:-4]) for i, dt in enumerate(datetimes)]\n",
    "            ax.set_xticks(range(len(xticklabels)))\n",
    "            ax.set_xticklabels(xticklabels, rotation=90)\n",
    "    plt.tight_layout()"
   ]
  }
 ],
 "metadata": {
  "kernelspec": {
   "display_name": "ergo-venv",
   "language": "python",
   "name": "ergo-venv"
  },
  "language_info": {
   "codemirror_mode": {
    "name": "ipython",
    "version": 3
   },
   "file_extension": ".py",
   "mimetype": "text/x-python",
   "name": "python",
   "nbconvert_exporter": "python",
   "pygments_lexer": "ipython3",
   "version": "3.10.5"
  },
  "varInspector": {
   "cols": {
    "lenName": 16,
    "lenType": 16,
    "lenVar": 40
   },
   "kernels_config": {
    "python": {
     "delete_cmd_postfix": "",
     "delete_cmd_prefix": "del ",
     "library": "var_list.py",
     "varRefreshCmd": "print(var_dic_list())"
    },
    "r": {
     "delete_cmd_postfix": ") ",
     "delete_cmd_prefix": "rm(",
     "library": "var_list.r",
     "varRefreshCmd": "cat(var_dic_list()) "
    }
   },
   "types_to_exclude": [
    "module",
    "function",
    "builtin_function_or_method",
    "instance",
    "_Feature"
   ],
   "window_display": false
  }
 },
 "nbformat": 4,
 "nbformat_minor": 5
}
